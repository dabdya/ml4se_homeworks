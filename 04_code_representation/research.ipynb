{
 "cells": [
  {
   "cell_type": "markdown",
   "id": "ab1fad5f",
   "metadata": {},
   "source": [
    "### Поиск клонов с помощью CodeBERT\n",
    "\n",
    "Постановка и идея решения этой задачи не будет отличаться от предыдущей, где нужно было изучить представление кода через ```code2vec```. Здесь достаточно подменить способ получения эмбеддингов, теперь это будет ```CodeBERT```. Однако в прошлый раз вывод делался на основе игрушечного датасета, теперь будем использовать сниппеты кода из датасета [```POJ-104```](https://github.com/microsoft/CodeXGLUE/tree/main/Code-Code/Clone-detection-POJ-104). Скачать можно по ссылке."
   ]
  },
  {
   "cell_type": "code",
   "execution_count": 1,
   "id": "2c0fed16",
   "metadata": {},
   "outputs": [],
   "source": [
    "import json, pathlib\n",
    "import pandas as pd\n",
    "import numpy as np"
   ]
  },
  {
   "cell_type": "code",
   "execution_count": 130,
   "id": "0dc83dab",
   "metadata": {},
   "outputs": [],
   "source": [
    "DATASET_PATH = pathlib.Path(\"dataset/poj_104.jsonl\")\n",
    "\n",
    "with open(DATASET_PATH, \"r\") as data:\n",
    "    samples = [json.loads(line) for line in data.readlines()]"
   ]
  },
  {
   "cell_type": "code",
   "execution_count": 3,
   "id": "d119b40a",
   "metadata": {},
   "outputs": [
    {
     "data": {
      "text/html": [
       "<div>\n",
       "<style scoped>\n",
       "    .dataframe tbody tr th:only-of-type {\n",
       "        vertical-align: middle;\n",
       "    }\n",
       "\n",
       "    .dataframe tbody tr th {\n",
       "        vertical-align: top;\n",
       "    }\n",
       "\n",
       "    .dataframe thead th {\n",
       "        text-align: right;\n",
       "    }\n",
       "</style>\n",
       "<table border=\"1\" class=\"dataframe\">\n",
       "  <thead>\n",
       "    <tr style=\"text-align: right;\">\n",
       "      <th></th>\n",
       "      <th>label</th>\n",
       "      <th>code</th>\n",
       "    </tr>\n",
       "    <tr>\n",
       "      <th>index</th>\n",
       "      <th></th>\n",
       "      <th></th>\n",
       "    </tr>\n",
       "  </thead>\n",
       "  <tbody>\n",
       "    <tr>\n",
       "      <th>0</th>\n",
       "      <td>1</td>\n",
       "      <td>int f(int n,int min){\\n\\tint i,result=1;\\n\\tif...</td>\n",
       "    </tr>\n",
       "    <tr>\n",
       "      <th>1</th>\n",
       "      <td>1</td>\n",
       "      <td>int fun(int m,int n)\\n{\\n    int i,sum=1;\\n   ...</td>\n",
       "    </tr>\n",
       "    <tr>\n",
       "      <th>2</th>\n",
       "      <td>1</td>\n",
       "      <td>/*\\n * fenjie.cpp\\n *\\n *  Created on: 2013-11...</td>\n",
       "    </tr>\n",
       "    <tr>\n",
       "      <th>3</th>\n",
       "      <td>1</td>\n",
       "      <td>\\nint f(int q,int x)\\n{\\n\\tif(q&lt;x)\\n\\t{\\tint i...</td>\n",
       "    </tr>\n",
       "    <tr>\n",
       "      <th>4</th>\n",
       "      <td>1</td>\n",
       "      <td>/************************************\\n*??????...</td>\n",
       "    </tr>\n",
       "    <tr>\n",
       "      <th>...</th>\n",
       "      <td>...</td>\n",
       "      <td>...</td>\n",
       "    </tr>\n",
       "    <tr>\n",
       "      <th>31995</th>\n",
       "      <td>64</td>\n",
       "      <td>/*\\n * jiegou_4.cpp\\n * ???????\\n *  Created o...</td>\n",
       "    </tr>\n",
       "    <tr>\n",
       "      <th>31996</th>\n",
       "      <td>64</td>\n",
       "      <td>struct point{\\n\\tint x;\\n\\tint y;\\n\\tint z;\\n}...</td>\n",
       "    </tr>\n",
       "    <tr>\n",
       "      <th>31997</th>\n",
       "      <td>64</td>\n",
       "      <td>int main()\\n{\\n    int n;\\n    float distance[...</td>\n",
       "    </tr>\n",
       "    <tr>\n",
       "      <th>31998</th>\n",
       "      <td>64</td>\n",
       "      <td>int main(){\\nint n,m,j,e,x[101],y[101],z[101],...</td>\n",
       "    </tr>\n",
       "    <tr>\n",
       "      <th>31999</th>\n",
       "      <td>64</td>\n",
       "      <td>struct dian{\\nfloat x;\\nfloat y;\\nfloat z;\\n};...</td>\n",
       "    </tr>\n",
       "  </tbody>\n",
       "</table>\n",
       "<p>32000 rows × 2 columns</p>\n",
       "</div>"
      ],
      "text/plain": [
       "      label                                               code\n",
       "index                                                         \n",
       "0         1  int f(int n,int min){\\n\\tint i,result=1;\\n\\tif...\n",
       "1         1  int fun(int m,int n)\\n{\\n    int i,sum=1;\\n   ...\n",
       "2         1  /*\\n * fenjie.cpp\\n *\\n *  Created on: 2013-11...\n",
       "3         1  \\nint f(int q,int x)\\n{\\n\\tif(q<x)\\n\\t{\\tint i...\n",
       "4         1  /************************************\\n*??????...\n",
       "...     ...                                                ...\n",
       "31995    64  /*\\n * jiegou_4.cpp\\n * ???????\\n *  Created o...\n",
       "31996    64  struct point{\\n\\tint x;\\n\\tint y;\\n\\tint z;\\n}...\n",
       "31997    64  int main()\\n{\\n    int n;\\n    float distance[...\n",
       "31998    64  int main(){\\nint n,m,j,e,x[101],y[101],z[101],...\n",
       "31999    64  struct dian{\\nfloat x;\\nfloat y;\\nfloat z;\\n};...\n",
       "\n",
       "[32000 rows x 2 columns]"
      ]
     },
     "execution_count": 3,
     "metadata": {},
     "output_type": "execute_result"
    }
   ],
   "source": [
    "df = pd.DataFrame(samples).set_index(\"index\")\n",
    "df"
   ]
  },
  {
   "cell_type": "code",
   "execution_count": 4,
   "id": "b3ab2e88",
   "metadata": {},
   "outputs": [
    {
     "data": {
      "text/plain": [
       "1     500\n",
       "2     500\n",
       "35    500\n",
       "36    500\n",
       "37    500\n",
       "     ... \n",
       "27    500\n",
       "28    500\n",
       "29    500\n",
       "30    500\n",
       "64    500\n",
       "Name: label, Length: 64, dtype: int64"
      ]
     },
     "execution_count": 4,
     "metadata": {},
     "output_type": "execute_result"
    }
   ],
   "source": [
    "df.label.value_counts()"
   ]
  },
  {
   "cell_type": "markdown",
   "id": "a02bb46e",
   "metadata": {},
   "source": [
    "Датасет ```POJ-104``` содержит $64$ типа задач вместо $3$ как для игрушечного датасета из прошлой задачи. Все классы изначально сбалансированны.\n",
    "\n",
    "Теперь загрузим предтренированную модель ```CodeBERT```"
   ]
  },
  {
   "cell_type": "code",
   "execution_count": 5,
   "id": "71a60090",
   "metadata": {},
   "outputs": [],
   "source": [
    "import warnings, torch\n",
    "warnings.filterwarnings(\"ignore\")\n",
    "\n",
    "from transformers import AutoTokenizer, AutoModel\n",
    "from typing import Dict, Iterable"
   ]
  },
  {
   "cell_type": "code",
   "execution_count": 6,
   "id": "b9511c57",
   "metadata": {},
   "outputs": [],
   "source": [
    "tokenizer = AutoTokenizer.from_pretrained(\"microsoft/codebert-base\")\n",
    "model = AutoModel.from_pretrained(\"microsoft/codebert-base\")"
   ]
  },
  {
   "cell_type": "markdown",
   "id": "b45b27a4",
   "metadata": {},
   "source": [
    "Поскольку максимальная длина последовательности для модели этой модели равняется $512$, нужно предварительно убрать все сниппеты кода, которые не удовлетворяют этому требованию и затем перебалансировать классы."
   ]
  },
  {
   "cell_type": "code",
   "execution_count": 7,
   "id": "39010377",
   "metadata": {},
   "outputs": [
    {
     "name": "stderr",
     "output_type": "stream",
     "text": [
      "Token indices sequence length is longer than the specified maximum sequence length for this model (543 > 512). Running this sequence through the model will result in indexing errors\n"
     ]
    },
    {
     "data": {
      "text/plain": [
       "6831"
      ]
     },
     "execution_count": 7,
     "metadata": {},
     "output_type": "execute_result"
    }
   ],
   "source": [
    "df.code.apply(lambda snippet: len(tokenizer.tokenize(snippet))).max()"
   ]
  },
  {
   "cell_type": "markdown",
   "id": "57172c6e",
   "metadata": {},
   "source": [
    "Видно что такие снипетты в исходном датасете есть, удалим их и сделаем балансировку"
   ]
  },
  {
   "cell_type": "code",
   "execution_count": 8,
   "id": "ebb3f544",
   "metadata": {},
   "outputs": [],
   "source": [
    "df = df[df.apply(lambda x: len(tokenizer.tokenize(x[\"code\"])) <= 512, axis = 1)]"
   ]
  },
  {
   "cell_type": "markdown",
   "id": "eafc3f7e",
   "metadata": {},
   "source": [
    "Помотрим какая теперь максимальная длина после обработки токенизатором"
   ]
  },
  {
   "cell_type": "code",
   "execution_count": 9,
   "id": "025423c1",
   "metadata": {},
   "outputs": [
    {
     "data": {
      "text/plain": [
       "512"
      ]
     },
     "execution_count": 9,
     "metadata": {},
     "output_type": "execute_result"
    }
   ],
   "source": [
    "df.code.apply(lambda snippet: len(tokenizer.tokenize(snippet))).max()"
   ]
  },
  {
   "cell_type": "markdown",
   "id": "416eedbc",
   "metadata": {},
   "source": [
    "Но теперь классы не сбалансированны. Чтобы это исправить возьмем нижнюю границу на количество сниппетов, при этом допустимо потерять некоторое количество классов, потому что их итак много, плюс еще в том что не придется долго ждать пока посчитаются эмбеддинги"
   ]
  },
  {
   "cell_type": "code",
   "execution_count": 10,
   "id": "f6f11f00",
   "metadata": {},
   "outputs": [
    {
     "data": {
      "text/plain": [
       "array([500, 497, 494, 492, 490, 490, 490, 487, 487, 486, 485, 484, 482,\n",
       "       482, 481, 481, 479, 479, 479, 475, 471, 471, 470, 466, 466, 464,\n",
       "       462, 458, 454, 452, 449, 449, 449, 445, 444, 439, 430, 422, 418,\n",
       "       413, 405, 405, 404, 399, 381, 379, 361, 330, 327, 317, 317, 305,\n",
       "       299, 298, 292, 285, 264, 245, 208, 176, 172,  96,  33,  31])"
      ]
     },
     "execution_count": 10,
     "metadata": {},
     "output_type": "execute_result"
    }
   ],
   "source": [
    "df.label.value_counts().values"
   ]
  },
  {
   "cell_type": "code",
   "execution_count": 11,
   "id": "717f4aad",
   "metadata": {},
   "outputs": [],
   "source": [
    "from random import choices\n",
    "\n",
    "BALANCE_LIMIT = 100"
   ]
  },
  {
   "cell_type": "code",
   "execution_count": 12,
   "id": "4e7cc382",
   "metadata": {},
   "outputs": [],
   "source": [
    "df[\"samples\"] = df.code.apply(lambda x: [x])\n",
    "df = df.groupby(\"label\").agg({\"samples\": \"sum\"})"
   ]
  },
  {
   "cell_type": "code",
   "execution_count": 13,
   "id": "a73c332f",
   "metadata": {},
   "outputs": [],
   "source": [
    "df = df[df.apply(lambda x: len(x[\"samples\"]) >= BALANCE_LIMIT, axis = 1)]\n",
    "df[\"samples\"] = df.samples.apply(lambda samples: choices(samples, k = BALANCE_LIMIT))"
   ]
  },
  {
   "cell_type": "code",
   "execution_count": 14,
   "id": "a83f6e79",
   "metadata": {},
   "outputs": [
    {
     "data": {
      "text/plain": [
       "True"
      ]
     },
     "execution_count": 14,
     "metadata": {},
     "output_type": "execute_result"
    }
   ],
   "source": [
    "all(df.samples.apply(lambda samples: len(samples) == BALANCE_LIMIT))"
   ]
  },
  {
   "cell_type": "markdown",
   "id": "c7003b4d",
   "metadata": {},
   "source": [
    "Все предобработки закончились. Теперь наконец получим эмбеддинги, при этом нужно как-нибудь понизить размерность и превратить контекстные эмбеддинги в один вектор. Например, через среднее."
   ]
  },
  {
   "cell_type": "code",
   "execution_count": 15,
   "id": "98ab7f59",
   "metadata": {},
   "outputs": [],
   "source": [
    "from ipywidgets import IntProgress\n",
    "from IPython.display import display\n",
    "\n",
    "def create_context_embeddings(\n",
    "    snippets: Iterable[str], max_context_size: int = 512, progress: bool = True) -> Iterable[np.array]:\n",
    "    \n",
    "    if progress:\n",
    "        progress = IntProgress(min=0, max=len(snippets))\n",
    "        display(progress)\n",
    "    \n",
    "    for snippet in snippets:\n",
    "        code_tokens = tokenizer.tokenize(snippet)\n",
    "        code_tokens +=  [\"<pad>\"] * (max_context_size - len(code_tokens))\n",
    "        tokens = [tokenizer.cls_token] + code_tokens + [tokenizer.sep_token]\n",
    "        tokens_ids = tokenizer.convert_tokens_to_ids(tokens)\n",
    "        \n",
    "        try:\n",
    "            context_embedding = model(torch.tensor(tokens_ids)[None,:])[0]\n",
    "            if progress:\n",
    "                progress.value += 1\n",
    "            yield context_embedding.data.numpy()\n",
    "        except IndexError as err:\n",
    "            pass"
   ]
  },
  {
   "cell_type": "code",
   "execution_count": 16,
   "id": "47887c03",
   "metadata": {},
   "outputs": [
    {
     "data": {
      "application/vnd.jupyter.widget-view+json": {
       "model_id": "babc071b747a4a988d750c13138c1c8d",
       "version_major": 2,
       "version_minor": 0
      },
      "text/plain": [
       "IntProgress(value=0, max=61)"
      ]
     },
     "metadata": {},
     "output_type": "display_data"
    },
    {
     "data": {
      "text/html": [
       "<div>\n",
       "<style scoped>\n",
       "    .dataframe tbody tr th:only-of-type {\n",
       "        vertical-align: middle;\n",
       "    }\n",
       "\n",
       "    .dataframe tbody tr th {\n",
       "        vertical-align: top;\n",
       "    }\n",
       "\n",
       "    .dataframe thead th {\n",
       "        text-align: right;\n",
       "    }\n",
       "</style>\n",
       "<table border=\"1\" class=\"dataframe\">\n",
       "  <thead>\n",
       "    <tr style=\"text-align: right;\">\n",
       "      <th></th>\n",
       "      <th>0</th>\n",
       "      <th>1</th>\n",
       "      <th>2</th>\n",
       "      <th>3</th>\n",
       "      <th>4</th>\n",
       "      <th>5</th>\n",
       "      <th>6</th>\n",
       "      <th>7</th>\n",
       "      <th>8</th>\n",
       "      <th>9</th>\n",
       "      <th>...</th>\n",
       "      <th>759</th>\n",
       "      <th>760</th>\n",
       "      <th>761</th>\n",
       "      <th>762</th>\n",
       "      <th>763</th>\n",
       "      <th>764</th>\n",
       "      <th>765</th>\n",
       "      <th>766</th>\n",
       "      <th>767</th>\n",
       "      <th>label</th>\n",
       "    </tr>\n",
       "  </thead>\n",
       "  <tbody>\n",
       "    <tr>\n",
       "      <th>15</th>\n",
       "      <td>-0.196263</td>\n",
       "      <td>-0.049859</td>\n",
       "      <td>0.206409</td>\n",
       "      <td>-0.048772</td>\n",
       "      <td>-0.800446</td>\n",
       "      <td>-0.332827</td>\n",
       "      <td>0.011412</td>\n",
       "      <td>-0.014319</td>\n",
       "      <td>0.293985</td>\n",
       "      <td>0.323533</td>\n",
       "      <td>...</td>\n",
       "      <td>-0.088394</td>\n",
       "      <td>-0.110172</td>\n",
       "      <td>0.580565</td>\n",
       "      <td>-0.204321</td>\n",
       "      <td>0.182299</td>\n",
       "      <td>0.632361</td>\n",
       "      <td>-0.910816</td>\n",
       "      <td>-0.376291</td>\n",
       "      <td>0.406403</td>\n",
       "      <td>37</td>\n",
       "    </tr>\n",
       "    <tr>\n",
       "      <th>74</th>\n",
       "      <td>-0.129188</td>\n",
       "      <td>-0.096691</td>\n",
       "      <td>0.181122</td>\n",
       "      <td>-0.069631</td>\n",
       "      <td>-0.813705</td>\n",
       "      <td>-0.374975</td>\n",
       "      <td>-0.036460</td>\n",
       "      <td>-0.060985</td>\n",
       "      <td>0.403051</td>\n",
       "      <td>0.311172</td>\n",
       "      <td>...</td>\n",
       "      <td>-0.099972</td>\n",
       "      <td>-0.088544</td>\n",
       "      <td>0.616600</td>\n",
       "      <td>-0.187726</td>\n",
       "      <td>0.155258</td>\n",
       "      <td>0.597850</td>\n",
       "      <td>-0.838422</td>\n",
       "      <td>-0.299632</td>\n",
       "      <td>0.384763</td>\n",
       "      <td>60</td>\n",
       "    </tr>\n",
       "    <tr>\n",
       "      <th>38</th>\n",
       "      <td>-0.236879</td>\n",
       "      <td>-0.035261</td>\n",
       "      <td>0.254429</td>\n",
       "      <td>0.144797</td>\n",
       "      <td>-0.491722</td>\n",
       "      <td>-0.145727</td>\n",
       "      <td>-0.016626</td>\n",
       "      <td>0.106858</td>\n",
       "      <td>0.293786</td>\n",
       "      <td>0.213029</td>\n",
       "      <td>...</td>\n",
       "      <td>-0.066183</td>\n",
       "      <td>-0.295650</td>\n",
       "      <td>0.461625</td>\n",
       "      <td>-0.267188</td>\n",
       "      <td>0.263288</td>\n",
       "      <td>0.670309</td>\n",
       "      <td>-0.898282</td>\n",
       "      <td>-0.373417</td>\n",
       "      <td>0.493581</td>\n",
       "      <td>2</td>\n",
       "    </tr>\n",
       "    <tr>\n",
       "      <th>88</th>\n",
       "      <td>-0.268591</td>\n",
       "      <td>0.051832</td>\n",
       "      <td>0.268689</td>\n",
       "      <td>0.160208</td>\n",
       "      <td>-0.912887</td>\n",
       "      <td>-0.410386</td>\n",
       "      <td>0.017543</td>\n",
       "      <td>0.012817</td>\n",
       "      <td>0.380688</td>\n",
       "      <td>0.371875</td>\n",
       "      <td>...</td>\n",
       "      <td>-0.067257</td>\n",
       "      <td>-0.234263</td>\n",
       "      <td>0.504040</td>\n",
       "      <td>-0.240615</td>\n",
       "      <td>0.209441</td>\n",
       "      <td>0.863482</td>\n",
       "      <td>-0.675945</td>\n",
       "      <td>-0.422101</td>\n",
       "      <td>0.514813</td>\n",
       "      <td>44</td>\n",
       "    </tr>\n",
       "    <tr>\n",
       "      <th>87</th>\n",
       "      <td>-0.091509</td>\n",
       "      <td>-0.051920</td>\n",
       "      <td>0.182499</td>\n",
       "      <td>-0.031158</td>\n",
       "      <td>-0.864953</td>\n",
       "      <td>-0.486916</td>\n",
       "      <td>-0.005217</td>\n",
       "      <td>0.024535</td>\n",
       "      <td>0.377353</td>\n",
       "      <td>0.329841</td>\n",
       "      <td>...</td>\n",
       "      <td>-0.026991</td>\n",
       "      <td>0.013709</td>\n",
       "      <td>0.772364</td>\n",
       "      <td>-0.157161</td>\n",
       "      <td>0.074932</td>\n",
       "      <td>0.578580</td>\n",
       "      <td>-0.775771</td>\n",
       "      <td>-0.256345</td>\n",
       "      <td>0.393357</td>\n",
       "      <td>54</td>\n",
       "    </tr>\n",
       "  </tbody>\n",
       "</table>\n",
       "<p>5 rows × 769 columns</p>\n",
       "</div>"
      ],
      "text/plain": [
       "           0         1         2         3         4         5         6  \\\n",
       "15 -0.196263 -0.049859  0.206409 -0.048772 -0.800446 -0.332827  0.011412   \n",
       "74 -0.129188 -0.096691  0.181122 -0.069631 -0.813705 -0.374975 -0.036460   \n",
       "38 -0.236879 -0.035261  0.254429  0.144797 -0.491722 -0.145727 -0.016626   \n",
       "88 -0.268591  0.051832  0.268689  0.160208 -0.912887 -0.410386  0.017543   \n",
       "87 -0.091509 -0.051920  0.182499 -0.031158 -0.864953 -0.486916 -0.005217   \n",
       "\n",
       "           7         8         9  ...       759       760       761       762  \\\n",
       "15 -0.014319  0.293985  0.323533  ... -0.088394 -0.110172  0.580565 -0.204321   \n",
       "74 -0.060985  0.403051  0.311172  ... -0.099972 -0.088544  0.616600 -0.187726   \n",
       "38  0.106858  0.293786  0.213029  ... -0.066183 -0.295650  0.461625 -0.267188   \n",
       "88  0.012817  0.380688  0.371875  ... -0.067257 -0.234263  0.504040 -0.240615   \n",
       "87  0.024535  0.377353  0.329841  ... -0.026991  0.013709  0.772364 -0.157161   \n",
       "\n",
       "         763       764       765       766       767  label  \n",
       "15  0.182299  0.632361 -0.910816 -0.376291  0.406403     37  \n",
       "74  0.155258  0.597850 -0.838422 -0.299632  0.384763     60  \n",
       "38  0.263288  0.670309 -0.898282 -0.373417  0.493581      2  \n",
       "88  0.209441  0.863482 -0.675945 -0.422101  0.514813     44  \n",
       "87  0.074932  0.578580 -0.775771 -0.256345  0.393357     54  \n",
       "\n",
       "[5 rows x 769 columns]"
      ]
     },
     "execution_count": 16,
     "metadata": {},
     "output_type": "execute_result"
    }
   ],
   "source": [
    "dfs = []\n",
    "\n",
    "progress = IntProgress(min=0, max=len(df))\n",
    "display(progress)\n",
    "\n",
    "for i in range(len(df)):\n",
    "    label = int(df.iloc[i].name)\n",
    "    context_embeddings = create_context_embeddings(df.iloc[i].samples, progress = False)\n",
    "    vectors = [e.mean(axis=1).flatten().tolist() for e in context_embeddings]\n",
    "    df_ = pd.DataFrame(data = vectors)\n",
    "    df_[\"label\"] = label\n",
    "    dfs.append(df_)\n",
    "    progress.value += 1\n",
    "    \n",
    "df = pd.concat(dfs).sample(frac = 1)\n",
    "df.head()"
   ]
  },
  {
   "cell_type": "code",
   "execution_count": 17,
   "id": "3db7c0f8",
   "metadata": {},
   "outputs": [
    {
     "data": {
      "text/plain": [
       "50    100\n",
       "28    100\n",
       "16    100\n",
       "34    100\n",
       "36    100\n",
       "     ... \n",
       "5      99\n",
       "8      98\n",
       "14     98\n",
       "32     98\n",
       "27     97\n",
       "Name: label, Length: 61, dtype: int64"
      ]
     },
     "execution_count": 17,
     "metadata": {},
     "output_type": "execute_result"
    }
   ],
   "source": [
    "df.label.value_counts()"
   ]
  },
  {
   "cell_type": "markdown",
   "id": "a383f0c3",
   "metadata": {},
   "source": [
    "Перейдем к классификации"
   ]
  },
  {
   "cell_type": "code",
   "execution_count": 117,
   "id": "87c809c1",
   "metadata": {},
   "outputs": [],
   "source": [
    "df = pd.concat(dfs).sample(frac = 1)"
   ]
  },
  {
   "cell_type": "code",
   "execution_count": 118,
   "id": "6f601698",
   "metadata": {},
   "outputs": [],
   "source": [
    "from sklearn.neighbors import KNeighborsClassifier\n",
    "\n",
    "clf = KNeighborsClassifier(\n",
    "    n_neighbors = 5,\n",
    "    metric = \"cosine\"\n",
    ")"
   ]
  },
  {
   "cell_type": "code",
   "execution_count": 119,
   "id": "16550710",
   "metadata": {},
   "outputs": [
    {
     "data": {
      "text/plain": [
       "((6086, 768), (6086,))"
      ]
     },
     "execution_count": 119,
     "metadata": {},
     "output_type": "execute_result"
    }
   ],
   "source": [
    "X = df.drop([\"label\"], axis = 1).values\n",
    "y = df[\"label\"].values\n",
    "\n",
    "X.shape, y.shape"
   ]
  },
  {
   "cell_type": "code",
   "execution_count": 120,
   "id": "1a17cf66",
   "metadata": {},
   "outputs": [
    {
     "data": {
      "text/plain": [
       "0.566053236937233"
      ]
     },
     "execution_count": 120,
     "metadata": {},
     "output_type": "execute_result"
    }
   ],
   "source": [
    "from sklearn.metrics import accuracy_score, classification_report\n",
    "\n",
    "clf = clf.fit(X, y)\n",
    "y_pred = clf.predict(X)\n",
    "\n",
    "accuracy_score(y, y_pred)"
   ]
  },
  {
   "cell_type": "code",
   "execution_count": 121,
   "id": "bc44e7db",
   "metadata": {},
   "outputs": [
    {
     "data": {
      "image/png": "[encoded data removed]",
      "text/plain": [
       "<Figure size 800x400 with 1 Axes>"
      ]
     },
     "metadata": {},
     "output_type": "display_data"
    }
   ],
   "source": [
    "from sklearn.decomposition import PCA\n",
    "import matplotlib.pyplot as plt\n",
    "\n",
    "pca = PCA(n_components=2)\n",
    "df_pca = pd.DataFrame(pca.fit_transform(X), columns=['PC1', 'PC2'])\n",
    "df_pca['y'] = y\n",
    "\n",
    "fig, ax = plt.subplots(figsize = (8, 4))\n",
    "ax.scatter(df_pca.PC1, df_pca.PC2, c = df_pca.y)\n",
    "\n",
    "plt.show()"
   ]
  },
  {
   "cell_type": "markdown",
   "id": "3c4f7a2a",
   "metadata": {},
   "source": [
    "Слишком много типов задач для такого простого классификатора, в котором обучения то по сути и нет, вместо этого хочется просто разделить эмбеддинги по выбранной метрике. И это логично что разделить качественно в этом случае с этим классификатором не получается."
   ]
  },
  {
   "cell_type": "code",
   "execution_count": 133,
   "id": "765dc22c",
   "metadata": {},
   "outputs": [],
   "source": [
    "df_quarter = df[df.label.isin(df.label.unique()[:len(df.label.unique())//4])]"
   ]
  },
  {
   "cell_type": "code",
   "execution_count": 134,
   "id": "6e31f0ed",
   "metadata": {},
   "outputs": [
    {
     "data": {
      "text/plain": [
       "0.6818181818181818"
      ]
     },
     "execution_count": 134,
     "metadata": {},
     "output_type": "execute_result"
    }
   ],
   "source": [
    "X = df_quarter.drop([\"label\"], axis = 1).values\n",
    "y = df_quarter[\"label\"].values\n",
    "\n",
    "clf = clf.fit(X, y)\n",
    "y_pred = clf.predict(X)\n",
    "\n",
    "accuracy_score(y, y_pred)"
   ]
  },
  {
   "cell_type": "markdown",
   "id": "360b31a0",
   "metadata": {},
   "source": [
    "С меньшим числом классов тот же классификатор дал лучше скор. Ожидаемо. Возьмем еще меньше"
   ]
  },
  {
   "cell_type": "code",
   "execution_count": 147,
   "id": "590a6f8a",
   "metadata": {},
   "outputs": [],
   "source": [
    "df_small = df[df.label.isin(df.label.unique()[:3])]"
   ]
  },
  {
   "cell_type": "code",
   "execution_count": 148,
   "id": "68748137",
   "metadata": {},
   "outputs": [
    {
     "data": {
      "text/plain": [
       "0.8766666666666667"
      ]
     },
     "execution_count": 148,
     "metadata": {},
     "output_type": "execute_result"
    }
   ],
   "source": [
    "X = df_small.drop([\"label\"], axis = 1).values\n",
    "y = df_small[\"label\"].values\n",
    "\n",
    "clf = clf.fit(X, y)\n",
    "y_pred = clf.predict(X)\n",
    "\n",
    "accuracy_score(y, y_pred)"
   ]
  },
  {
   "cell_type": "markdown",
   "id": "f8e63994",
   "metadata": {},
   "source": [
    "Давайте $N$ раз будем рандомно выбирать маленький фрейм и смотреть скор"
   ]
  },
  {
   "cell_type": "code",
   "execution_count": 152,
   "id": "3bb68112",
   "metadata": {},
   "outputs": [],
   "source": [
    "import random\n",
    "\n",
    "N = 1000\n",
    "scores = []\n",
    "\n",
    "for i in range(N):\n",
    "    df_small = df[df.label.isin(random.choices(df.label.unique(), k = 3))]\n",
    "\n",
    "    X = df_small.drop([\"label\"], axis = 1).values\n",
    "    y = df_small[\"label\"].values\n",
    "\n",
    "    clf = clf.fit(X, y)\n",
    "    y_pred = clf.predict(X)\n",
    "\n",
    "    scores.append(accuracy_score(y, y_pred))"
   ]
  },
  {
   "cell_type": "code",
   "execution_count": 153,
   "id": "76a027b8",
   "metadata": {},
   "outputs": [
    {
     "data": {
      "text/plain": [
       "count    1000.000000\n",
       "mean        0.870048\n",
       "std         0.056836\n",
       "min         0.643333\n",
       "25%         0.833333\n",
       "50%         0.873333\n",
       "75%         0.910000\n",
       "max         1.000000\n",
       "dtype: float64"
      ]
     },
     "execution_count": 153,
     "metadata": {},
     "output_type": "execute_result"
    }
   ],
   "source": [
    "pd.Series(scores).describe()"
   ]
  },
  {
   "cell_type": "markdown",
   "id": "d7479f22",
   "metadata": {},
   "source": [
    "В среднем получался скор на уровне игрушечного датасета из предыдущей задачи. Простой классификатор не смог в лоб решить задачу для большого количества классов, однако разные комбинации небольших размеров он хорошо отделил друг от друга. Это более сильное условие, проверенное с помощью более масштабного датасета. Таким образом **можно сделать вывод о том, что модель** ```CodeBERT``` **годится для получения эмбеддингов, различая функциональные свойства разных сниппетов кода**. "
   ]
  }
 ],
 "metadata": {
  "kernelspec": {
   "display_name": "Python 3 (ipykernel)",
   "language": "python",
   "name": "python3"
  },
  "language_info": {
   "codemirror_mode": {
    "name": "ipython",
    "version": 3
   },
   "file_extension": ".py",
   "mimetype": "text/x-python",
   "name": "python",
   "nbconvert_exporter": "python",
   "pygments_lexer": "ipython3",
   "version": "3.8.10"
  },
  "notebookId": "431e8119-4a55-47b4-9ddf-50f45962e540",
  "notebookPath": "04_code_representation/research.ipynb"
 },
 "nbformat": 4,
 "nbformat_minor": 5
}
