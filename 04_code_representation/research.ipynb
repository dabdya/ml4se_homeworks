{
 "cells": [
  {
   "cell_type": "code",
   "execution_count": 61,
   "id": "18024002",
   "metadata": {
    "cellId": "l642pywtx0jjhe1z7mqn5f"
   },
   "outputs": [],
   "source": [
    "import code_patterns.factorial_patterns as fp\n",
    "import code_patterns.binsearch_patterns as bp\n",
    "import code_patterns.sort_patterns as sp\n",
    "from code_formatter import CodeFormatter\n",
    "\n",
    "from random import choice\n",
    "from json import dump, load"
   ]
  },
  {
   "cell_type": "code",
   "execution_count": 71,
   "id": "9ff1d582",
   "metadata": {
    "cellId": "q5chcnw2yxi52neafgp6gw"
   },
   "outputs": [],
   "source": [
    "SAMPLES_COUNT = 25\n",
    "SNIPPETS_DIR = \"04_code_representation/code_snippets\"\n",
    "\n",
    "cf = CodeFormatter()\n",
    "\n",
    "factorial_snippets = dict()\n",
    "binsearch_snippets = dict()\n",
    "sort_snippets = dict()\n",
    "\n",
    "for i in range(SAMPLES_COUNT):\n",
    "    factorial_snippets[i] = cf.format(choice(fp.ALL))\n",
    "    binsearch_snippets[i] = cf.format(choice(bp.ALL))\n",
    "    sort_snippets[i] = cf.format(choice(sp.ALL))\n",
    "\n",
    "with open(f\"{SNIPPETS_DIR}/snippets.json\", \"w\") as f:\n",
    "    dump({\n",
    "        \"factorial_snippets\": factorial_snippets, \n",
    "        \"binsearch_snippets\": binsearch_snippets,\n",
    "        \"sort_snippets\": sort_snippets\n",
    "        }, \n",
    "        f\n",
    "    )"
   ]
  },
  {
   "cell_type": "code",
   "execution_count": 72,
   "id": "8d85aca1",
   "metadata": {
    "cellId": "ftaan8t119rvxzq47k57nd"
   },
   "outputs": [
    {
     "data": {
      "application/vnd.jupyter.widget-view+json": {
       "model_id": "2fe306f8a9514c9f879a403558b4de4a",
       "version_major": 2,
       "version_minor": 0
      },
      "text/plain": [
       "HBox(children=(HTML(value='Downloading'), FloatProgress(value=0.0, max=25.0), HTML(value='')))"
      ]
     },
     "metadata": {},
     "output_type": "display_data"
    },
    {
     "name": "stdout",
     "output_type": "stream",
     "text": [
      "\n"
     ]
    },
    {
     "data": {
      "application/vnd.jupyter.widget-view+json": {
       "model_id": "58728204fa5f476a9d33ac423c23643a",
       "version_major": 2,
       "version_minor": 0
      },
      "text/plain": [
       "HBox(children=(HTML(value='Downloading'), FloatProgress(value=0.0, max=498.0), HTML(value='')))"
      ]
     },
     "metadata": {},
     "output_type": "display_data"
    },
    {
     "name": "stdout",
     "output_type": "stream",
     "text": [
      "\n"
     ]
    },
    {
     "data": {
      "application/vnd.jupyter.widget-view+json": {
       "model_id": "6fb9d4ce3c4c469292a3b65b989e0278",
       "version_major": 2,
       "version_minor": 0
      },
      "text/plain": [
       "HBox(children=(HTML(value='Downloading'), FloatProgress(value=0.0, max=898822.0), HTML(value='')))"
      ]
     },
     "metadata": {},
     "output_type": "display_data"
    },
    {
     "name": "stdout",
     "output_type": "stream",
     "text": [
      "\n"
     ]
    },
    {
     "data": {
      "application/vnd.jupyter.widget-view+json": {
       "model_id": "f9d6ebd8c2fe4935848d2b62f02c01f4",
       "version_major": 2,
       "version_minor": 0
      },
      "text/plain": [
       "HBox(children=(HTML(value='Downloading'), FloatProgress(value=0.0, max=456318.0), HTML(value='')))"
      ]
     },
     "metadata": {},
     "output_type": "display_data"
    },
    {
     "name": "stdout",
     "output_type": "stream",
     "text": [
      "\n"
     ]
    },
    {
     "data": {
      "application/vnd.jupyter.widget-view+json": {
       "model_id": "b2addd4600b040fab5d522cf15f6779b",
       "version_major": 2,
       "version_minor": 0
      },
      "text/plain": [
       "HBox(children=(HTML(value='Downloading'), FloatProgress(value=0.0, max=150.0), HTML(value='')))"
      ]
     },
     "metadata": {},
     "output_type": "display_data"
    },
    {
     "name": "stdout",
     "output_type": "stream",
     "text": [
      "\n"
     ]
    },
    {
     "data": {
      "application/vnd.jupyter.widget-view+json": {
       "model_id": "0c5f2544d46b473bb2f406ed5598b329",
       "version_major": 2,
       "version_minor": 0
      },
      "text/plain": [
       "HBox(children=(HTML(value='Downloading'), FloatProgress(value=0.0, max=498627950.0), HTML(value='')))"
      ]
     },
     "metadata": {},
     "output_type": "display_data"
    },
    {
     "name": "stdout",
     "output_type": "stream",
     "text": [
      "\n"
     ]
    }
   ],
   "source": [
    "from typing import Dict, Iterable\n",
    "from transformers import AutoTokenizer, AutoModel\n",
    "import torch\n",
    "\n",
    "tokenizer = AutoTokenizer.from_pretrained(\"microsoft/codebert-base\")\n",
    "model = AutoModel.from_pretrained(\"microsoft/codebert-base\")"
   ]
  },
  {
   "cell_type": "code",
   "execution_count": 73,
   "id": "bfbbd2cf",
   "metadata": {
    "cellId": "qzgpker87hpirinil0fh4h"
   },
   "outputs": [],
   "source": [
    "def max_context_size(tasks: Iterable[Dict[int, str]]) -> int:\n",
    "    return max(\n",
    "        [\n",
    "            len(tokenizer.tokenize(snippet))\n",
    "            for task_snippets in tasks\n",
    "            for snippet in task_snippets.values()\n",
    "        ]\n",
    "    )"
   ]
  },
  {
   "cell_type": "code",
   "execution_count": 74,
   "id": "72657975",
   "metadata": {
    "cellId": "z0x8mdfe6kgxnnocw8gun"
   },
   "outputs": [],
   "source": [
    "from ipywidgets import IntProgress\n",
    "from IPython.display import display\n",
    "\n",
    "def create_context_embeddings(snippets: Dict[int, str], max_context_size: int = 512) -> Iterable[str]:\n",
    "    \n",
    "    progress = IntProgress(min=0, max=len(snippets))\n",
    "    display(progress)\n",
    "    \n",
    "    for snippet in snippets.values():\n",
    "        code_tokens = tokenizer.tokenize(snippet)\n",
    "        code_tokens +=  [\"<pad>\"] * (max_context_size - len(code_tokens))\n",
    "        tokens = [tokenizer.cls_token] + code_tokens + [tokenizer.sep_token]\n",
    "        tokens_ids = tokenizer.convert_tokens_to_ids(tokens)\n",
    "        context_embedding = model(torch.tensor(tokens_ids)[None,:])[0]\n",
    "\n",
    "        progress.value += 1\n",
    "        yield context_embedding"
   ]
  },
  {
   "cell_type": "code",
   "execution_count": 76,
   "id": "1f7518e7",
   "metadata": {
    "cellId": "nqxhi0wyz3l454nok6w55o"
   },
   "outputs": [
    {
     "data": {
      "application/vnd.jupyter.widget-view+json": {
       "model_id": "e12b58d314a04000b183c225f2234064",
       "version_major": 2,
       "version_minor": 0
      },
      "text/plain": [
       "IntProgress(value=0, max=25)"
      ]
     },
     "metadata": {},
     "output_type": "display_data"
    },
    {
     "data": {
      "application/vnd.jupyter.widget-view+json": {
       "model_id": "0157c27dedf147d79fea201247bc9563",
       "version_major": 2,
       "version_minor": 0
      },
      "text/plain": [
       "IntProgress(value=0, max=25)"
      ]
     },
     "metadata": {},
     "output_type": "display_data"
    }
   ],
   "source": [
    "context_size = max_context_size([factorial_snippets, binsearch_snippets])\n",
    "\n",
    "factorial_embeddings = list(create_context_embeddings(factorial_snippets, context_size))\n",
    "binsearch_embeddings = list(create_context_embeddings(binsearch_snippets, context_size))\n",
    "# sort_embeddings = list(create_context_embedding(sort_snippets, context_size))"
   ]
  },
  {
   "cell_type": "markdown",
   "id": "4e25ebcf",
   "metadata": {
    "cellId": "tto8if19kkni3sn30yc9",
    "execution_id": "60a6003b-b975-4819-8b6c-cc2e1dbe824e"
   },
   "source": [
    "Среднеквадратическая ошибка по матрице не подходит, потому что не отражает семантические свойства, либо полученные эмбеддинги их не содержат"
   ]
  },
  {
   "cell_type": "code",
   "execution_count": 14,
   "id": "b83b8577",
   "metadata": {
    "cellId": "eh4tk65fd7l0b0bb5uq488b"
   },
   "outputs": [],
   "source": [
    "from torchmetrics import MeanSquaredError\n",
    "mse = MeanSquaredError()"
   ]
  },
  {
   "cell_type": "code",
   "execution_count": 15,
   "id": "7a1d8d77",
   "metadata": {
    "cellId": "w76bau1e15dkfws63oqz4"
   },
   "outputs": [
    {
     "data": {
      "text/plain": [
       "tensor(0.1123, grad_fn=<DivBackward0>)"
      ]
     },
     "execution_count": 15,
     "metadata": {},
     "output_type": "execute_result"
    }
   ],
   "source": [
    "mse(factorial_embeddings[0], factorial_embeddings[1])"
   ]
  },
  {
   "cell_type": "code",
   "execution_count": 20,
   "id": "ad1ce32d",
   "metadata": {
    "cellId": "8ke04dvtpkdp565hslz5xm"
   },
   "outputs": [
    {
     "data": {
      "text/plain": [
       "tensor(0.2869, grad_fn=<DivBackward0>)"
      ]
     },
     "execution_count": 20,
     "metadata": {},
     "output_type": "execute_result"
    }
   ],
   "source": [
    "mse(binsearch_embeddings[0], binsearch_embeddings[4])"
   ]
  },
  {
   "cell_type": "code",
   "execution_count": 19,
   "id": "a0345ab1",
   "metadata": {
    "cellId": "ifctq6w82sq2vml2n4dtys"
   },
   "outputs": [
    {
     "data": {
      "text/plain": [
       "tensor(0.1193, grad_fn=<DivBackward0>)"
      ]
     },
     "execution_count": 19,
     "metadata": {},
     "output_type": "execute_result"
    }
   ],
   "source": [
    "mse(factorial_embeddings[1], binsearch_embeddings[1])"
   ]
  },
  {
   "cell_type": "markdown",
   "id": "02e5a812",
   "metadata": {
    "cellId": "0vnd0plgll2j22k0akhv7rg",
    "execution_id": "bab402e8-bd10-45cf-aef6-ae4dd48f1d83"
   },
   "source": [
    "Поэтому нужно как-нибудь понизить размерность, и превратить контекстные эмбеддинги в один вектор. Например, через среднее."
   ]
  },
  {
   "cell_type": "code",
   "execution_count": 77,
   "id": "99ebbb90",
   "metadata": {
    "cellId": "8upj6k8v7bqdvujh3lp0ul"
   },
   "outputs": [],
   "source": [
    "import numpy as np\n",
    "import pandas as pd"
   ]
  },
  {
   "cell_type": "code",
   "execution_count": 78,
   "id": "4476897b",
   "metadata": {
    "cellId": "b1bcqvp3pxc5tvf4oyx4zv"
   },
   "outputs": [],
   "source": [
    "factorial_vectors = [torch.mean(factorial_embeddings[i], axis = 1).flatten().tolist() for i in range(len(factorial_embeddings))]\n",
    "binsearch_vectors = [torch.mean(binsearch_embeddings[i], axis = 1).flatten().tolist() for i in range(len(binsearch_embeddings))]"
   ]
  },
  {
   "cell_type": "code",
   "execution_count": 79,
   "id": "9384ec7a",
   "metadata": {
    "cellId": "b02gux913oceaxlhezei"
   },
   "outputs": [
    {
     "data": {
      "text/html": [
       "<div>\n",
       "<style scoped>\n",
       "    .dataframe tbody tr th:only-of-type {\n",
       "        vertical-align: middle;\n",
       "    }\n",
       "\n",
       "    .dataframe tbody tr th {\n",
       "        vertical-align: top;\n",
       "    }\n",
       "\n",
       "    .dataframe thead th {\n",
       "        text-align: right;\n",
       "    }\n",
       "</style>\n",
       "<table border=\"1\" class=\"dataframe\">\n",
       "  <thead>\n",
       "    <tr style=\"text-align: right;\">\n",
       "      <th></th>\n",
       "      <th>0</th>\n",
       "      <th>1</th>\n",
       "      <th>2</th>\n",
       "      <th>3</th>\n",
       "      <th>4</th>\n",
       "      <th>5</th>\n",
       "      <th>6</th>\n",
       "      <th>7</th>\n",
       "      <th>8</th>\n",
       "      <th>9</th>\n",
       "      <th>...</th>\n",
       "      <th>759</th>\n",
       "      <th>760</th>\n",
       "      <th>761</th>\n",
       "      <th>762</th>\n",
       "      <th>763</th>\n",
       "      <th>764</th>\n",
       "      <th>765</th>\n",
       "      <th>766</th>\n",
       "      <th>767</th>\n",
       "      <th>label</th>\n",
       "    </tr>\n",
       "  </thead>\n",
       "  <tbody>\n",
       "    <tr>\n",
       "      <th>18</th>\n",
       "      <td>0.061167</td>\n",
       "      <td>-0.058735</td>\n",
       "      <td>0.250418</td>\n",
       "      <td>-0.121777</td>\n",
       "      <td>-1.103654</td>\n",
       "      <td>-0.245905</td>\n",
       "      <td>0.074985</td>\n",
       "      <td>-0.200544</td>\n",
       "      <td>0.207962</td>\n",
       "      <td>0.391431</td>\n",
       "      <td>...</td>\n",
       "      <td>0.078434</td>\n",
       "      <td>0.190813</td>\n",
       "      <td>0.662801</td>\n",
       "      <td>-0.082366</td>\n",
       "      <td>-0.042910</td>\n",
       "      <td>0.753072</td>\n",
       "      <td>-0.741615</td>\n",
       "      <td>-0.153185</td>\n",
       "      <td>0.258659</td>\n",
       "      <td>1</td>\n",
       "    </tr>\n",
       "    <tr>\n",
       "      <th>17</th>\n",
       "      <td>0.073156</td>\n",
       "      <td>-0.054352</td>\n",
       "      <td>0.259826</td>\n",
       "      <td>-0.211052</td>\n",
       "      <td>-1.213067</td>\n",
       "      <td>-0.214851</td>\n",
       "      <td>0.068947</td>\n",
       "      <td>-0.245076</td>\n",
       "      <td>0.208511</td>\n",
       "      <td>0.392740</td>\n",
       "      <td>...</td>\n",
       "      <td>0.115117</td>\n",
       "      <td>0.197360</td>\n",
       "      <td>0.595134</td>\n",
       "      <td>-0.141721</td>\n",
       "      <td>-0.027971</td>\n",
       "      <td>0.778348</td>\n",
       "      <td>-0.689331</td>\n",
       "      <td>-0.165247</td>\n",
       "      <td>0.240995</td>\n",
       "      <td>1</td>\n",
       "    </tr>\n",
       "    <tr>\n",
       "      <th>5</th>\n",
       "      <td>-0.296074</td>\n",
       "      <td>0.048974</td>\n",
       "      <td>0.209351</td>\n",
       "      <td>0.103714</td>\n",
       "      <td>-0.706520</td>\n",
       "      <td>-0.299450</td>\n",
       "      <td>0.003905</td>\n",
       "      <td>0.086961</td>\n",
       "      <td>0.396154</td>\n",
       "      <td>0.286388</td>\n",
       "      <td>...</td>\n",
       "      <td>-0.093706</td>\n",
       "      <td>-0.350163</td>\n",
       "      <td>0.578731</td>\n",
       "      <td>-0.240972</td>\n",
       "      <td>0.252958</td>\n",
       "      <td>0.852001</td>\n",
       "      <td>-0.682110</td>\n",
       "      <td>-0.363485</td>\n",
       "      <td>0.596861</td>\n",
       "      <td>1</td>\n",
       "    </tr>\n",
       "    <tr>\n",
       "      <th>13</th>\n",
       "      <td>-0.060665</td>\n",
       "      <td>-0.054750</td>\n",
       "      <td>0.232139</td>\n",
       "      <td>0.026206</td>\n",
       "      <td>-0.996675</td>\n",
       "      <td>-0.434936</td>\n",
       "      <td>-0.007312</td>\n",
       "      <td>-0.046766</td>\n",
       "      <td>0.345992</td>\n",
       "      <td>0.387880</td>\n",
       "      <td>...</td>\n",
       "      <td>-0.048406</td>\n",
       "      <td>0.050260</td>\n",
       "      <td>0.672718</td>\n",
       "      <td>-0.153239</td>\n",
       "      <td>0.029613</td>\n",
       "      <td>0.752568</td>\n",
       "      <td>-0.718666</td>\n",
       "      <td>-0.191955</td>\n",
       "      <td>0.376820</td>\n",
       "      <td>0</td>\n",
       "    </tr>\n",
       "    <tr>\n",
       "      <th>2</th>\n",
       "      <td>-0.091507</td>\n",
       "      <td>-0.037592</td>\n",
       "      <td>0.261951</td>\n",
       "      <td>0.009798</td>\n",
       "      <td>-1.059660</td>\n",
       "      <td>-0.343006</td>\n",
       "      <td>-0.010116</td>\n",
       "      <td>-0.037551</td>\n",
       "      <td>0.307459</td>\n",
       "      <td>0.378772</td>\n",
       "      <td>...</td>\n",
       "      <td>-0.050420</td>\n",
       "      <td>0.004826</td>\n",
       "      <td>0.642486</td>\n",
       "      <td>-0.182456</td>\n",
       "      <td>0.039956</td>\n",
       "      <td>0.749913</td>\n",
       "      <td>-0.799586</td>\n",
       "      <td>-0.190686</td>\n",
       "      <td>0.367412</td>\n",
       "      <td>0</td>\n",
       "    </tr>\n",
       "  </tbody>\n",
       "</table>\n",
       "<p>5 rows × 769 columns</p>\n",
       "</div>"
      ],
      "text/plain": [
       "           0         1         2         3         4         5         6  \\\n",
       "18  0.061167 -0.058735  0.250418 -0.121777 -1.103654 -0.245905  0.074985   \n",
       "17  0.073156 -0.054352  0.259826 -0.211052 -1.213067 -0.214851  0.068947   \n",
       "5  -0.296074  0.048974  0.209351  0.103714 -0.706520 -0.299450  0.003905   \n",
       "13 -0.060665 -0.054750  0.232139  0.026206 -0.996675 -0.434936 -0.007312   \n",
       "2  -0.091507 -0.037592  0.261951  0.009798 -1.059660 -0.343006 -0.010116   \n",
       "\n",
       "           7         8         9  ...       759       760       761       762  \\\n",
       "18 -0.200544  0.207962  0.391431  ...  0.078434  0.190813  0.662801 -0.082366   \n",
       "17 -0.245076  0.208511  0.392740  ...  0.115117  0.197360  0.595134 -0.141721   \n",
       "5   0.086961  0.396154  0.286388  ... -0.093706 -0.350163  0.578731 -0.240972   \n",
       "13 -0.046766  0.345992  0.387880  ... -0.048406  0.050260  0.672718 -0.153239   \n",
       "2  -0.037551  0.307459  0.378772  ... -0.050420  0.004826  0.642486 -0.182456   \n",
       "\n",
       "         763       764       765       766       767  label  \n",
       "18 -0.042910  0.753072 -0.741615 -0.153185  0.258659      1  \n",
       "17 -0.027971  0.778348 -0.689331 -0.165247  0.240995      1  \n",
       "5   0.252958  0.852001 -0.682110 -0.363485  0.596861      1  \n",
       "13  0.029613  0.752568 -0.718666 -0.191955  0.376820      0  \n",
       "2   0.039956  0.749913 -0.799586 -0.190686  0.367412      0  \n",
       "\n",
       "[5 rows x 769 columns]"
      ]
     },
     "execution_count": 79,
     "metadata": {},
     "output_type": "execute_result"
    }
   ],
   "source": [
    "fdf = pd.DataFrame(data = factorial_vectors)\n",
    "fdf[\"label\"] = 0\n",
    "\n",
    "bdf = pd.DataFrame(data = binsearch_vectors)\n",
    "bdf[\"label\"] = 1\n",
    "\n",
    "df = pd.concat([fdf, bdf]).sample(frac = 1)\n",
    "df.head()"
   ]
  },
  {
   "cell_type": "code",
   "execution_count": 80,
   "id": "f0c48be1",
   "metadata": {
    "cellId": "k3f79id10ir2xggu8nket1"
   },
   "outputs": [
    {
     "data": {
      "text/plain": [
       "(50, 769)"
      ]
     },
     "execution_count": 80,
     "metadata": {},
     "output_type": "execute_result"
    }
   ],
   "source": [
    "df.shape"
   ]
  },
  {
   "cell_type": "code",
   "execution_count": 81,
   "id": "14b117da",
   "metadata": {
    "cellId": "332es7gvg6fo5u7t99rmq"
   },
   "outputs": [],
   "source": [
    "from sklearn.neighbors import KNeighborsClassifier"
   ]
  },
  {
   "cell_type": "code",
   "execution_count": 82,
   "id": "385eba07",
   "metadata": {
    "cellId": "gurm2rwzzaioy0lw1hac1"
   },
   "outputs": [],
   "source": [
    "clf = KNeighborsClassifier(\n",
    "    n_neighbors = 5,\n",
    "    metric = \"cosine\"\n",
    ")"
   ]
  },
  {
   "cell_type": "code",
   "execution_count": 83,
   "id": "d04188ae",
   "metadata": {
    "cellId": "6aaye7aucoa3ilkyw11vy"
   },
   "outputs": [],
   "source": [
    "X = df.drop([\"label\"], axis = 1).values\n",
    "y = df[\"label\"].values"
   ]
  },
  {
   "cell_type": "code",
   "execution_count": 84,
   "id": "44ea10f0",
   "metadata": {
    "cellId": "miqmcye65dins8uoskj5v"
   },
   "outputs": [
    {
     "data": {
      "text/plain": [
       "((50, 768), (50,))"
      ]
     },
     "execution_count": 84,
     "metadata": {},
     "output_type": "execute_result"
    }
   ],
   "source": [
    "X.shape, y.shape"
   ]
  },
  {
   "cell_type": "code",
   "execution_count": 85,
   "id": "74eee406",
   "metadata": {
    "cellId": "n9s5atuyy1p3s2hcytugrj"
   },
   "outputs": [
    {
     "data": {
      "text/plain": [
       "0.94"
      ]
     },
     "execution_count": 85,
     "metadata": {},
     "output_type": "execute_result"
    }
   ],
   "source": [
    "from sklearn.metrics import accuracy_score, classification_report\n",
    "\n",
    "clf = clf.fit(X, y)\n",
    "y_pred = clf.predict(X)\n",
    "\n",
    "accuracy_score(y, y_pred)"
   ]
  }
 ],
 "metadata": {
  "language_info": {
   "codemirror_mode": {
    "name": "ipython",
    "version": 3
   },
   "file_extension": ".py",
   "mimetype": "text/x-python",
   "name": "python",
   "nbconvert_exporter": "python",
   "pygments_lexer": "ipython3",
   "version": "3.7.7"
  },
  "notebookId": "431e8119-4a55-47b4-9ddf-50f45962e540",
  "notebookPath": "04_code_representation/research.ipynb"
 },
 "nbformat": 4,
 "nbformat_minor": 5
}
