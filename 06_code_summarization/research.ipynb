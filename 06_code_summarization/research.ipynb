{
 "cells": [
  {
   "cell_type": "markdown",
   "id": "9dc89efa",
   "metadata": {},
   "source": [
    "### Постановка задачи\n",
    "\n",
    "На основе существующих открытых обученных моделей (```CodeBERT```, ```InCoder```) собрать решение для суммаризации кода. Поскольку ```InCoder``` из коробки может генерировать описание для кода, то можно не использовать ```CodeBERT``` на предварительном этапе для получения эмбеддингов.\n",
    "\n",
    "Также стоит отметить, что ```InCoder``` умеет работать не только с питоном, но и со многими другими языками. В прошлой задаче, где нужно было сгенерировать код, использовался питон. Здесь, по сути в обратной задаче, давайте использовать другой язык.\n",
    "\n",
    "Воспроизвести результат можно не запуская код, для этого есть [демка](https://huggingface.co/spaces/facebook/incoder-demo)"
   ]
  },
  {
   "cell_type": "code",
   "execution_count": 1,
   "id": "12ce88a5",
   "metadata": {},
   "outputs": [],
   "source": [
    "import json, pathlib\n",
    "import pandas as pd\n",
    "import numpy as np"
   ]
  },
  {
   "cell_type": "markdown",
   "id": "8231fa66",
   "metadata": {},
   "source": [
    "Сниппеты кода возьму из задачи на представление кода, потому что генератор этих сниппетов был написан вручную и я хорошо представляю какую задачу решает какждый кусок кода. Код написан на ```Java```. Плюс сами сниппеты зашумлены, это усложнит задачу. Также не придется тратить дополнительное время на понимание задачи из стороннего датасета, там не всегда указано какая задача решается. "
   ]
  },
  {
   "cell_type": "markdown",
   "id": "9b27827b",
   "metadata": {},
   "source": [
    "### Исследование"
   ]
  },
  {
   "cell_type": "code",
   "execution_count": 2,
   "id": "12146e31",
   "metadata": {},
   "outputs": [],
   "source": [
    "DATASET_PATH = pathlib.Path(\"dataset/snippets.json\")\n",
    "\n",
    "with open(DATASET_PATH, \"r\") as data:\n",
    "    samples = json.load(data)"
   ]
  },
  {
   "cell_type": "code",
   "execution_count": 4,
   "id": "3ddd6ec5",
   "metadata": {},
   "outputs": [],
   "source": [
    "factorial_snippets = samples[\"factorial_snippets\"]\n",
    "binsearch_snippets = samples[\"binsearch_snippets\"]\n",
    "sort_snippets = samples[\"sort_snippets\"]"
   ]
  },
  {
   "cell_type": "markdown",
   "id": "943139c6",
   "metadata": {},
   "source": [
    "Загружаем ```InCoder``` и метод с помощью которого можно будет получить описание того что происходит в коде"
   ]
  },
  {
   "cell_type": "code",
   "execution_count": 6,
   "id": "7603ca1c",
   "metadata": {},
   "outputs": [
    {
     "name": "stdout",
     "output_type": "stream",
     "text": [
      "loading model\n",
      "loading tokenizer\n",
      "loading complete\n"
     ]
    }
   ],
   "source": [
    "from incoder import infill"
   ]
  },
  {
   "cell_type": "code",
   "execution_count": 59,
   "id": "f147fe55",
   "metadata": {},
   "outputs": [],
   "source": [
    "def code_to_docstring(code_snippet: str, max_to_generate=128, temperature=0.2):\n",
    "    parts = code_snippet.split(\"<insert>\")\n",
    "    result = infill(parts, max_to_generate=max_to_generate, temperature=temperature)\n",
    "    return result[\"text\"]"
   ]
  },
  {
   "cell_type": "markdown",
   "id": "850fdf53",
   "metadata": {},
   "source": [
    "Протестируем работоспособность"
   ]
  },
  {
   "cell_type": "code",
   "execution_count": 60,
   "id": "f69c112f",
   "metadata": {},
   "outputs": [],
   "source": [
    "example = '''\\\n",
    "def count_words(filename):\n",
    "    \"\"\" <insert> \"\"\"\n",
    "    counts = Counter()\n",
    "    with open(filename) as file:\n",
    "        for line in file:\n",
    "            words = line.split(' ')\n",
    "            counts.update(words)\n",
    "    return counts'''"
   ]
  },
  {
   "cell_type": "code",
   "execution_count": 61,
   "id": "ceddfc9f",
   "metadata": {},
   "outputs": [
    {
     "name": "stdout",
     "output_type": "stream",
     "text": [
      "def count_words(filename):\n",
      "    \"\"\" Count words in a file \"\"\"\n",
      "    counts = Counter()\n",
      "    with open(filename) as file:\n",
      "        for line in file:\n",
      "            words = line.split(' ')\n",
      "            counts.update(words)\n",
      "    return counts\n",
      "\n",
      "\n",
      "def count_sentences(filename):\n",
      "    \"\"\" Count sentences in a file  \"\"\"\n",
      "    counts = Counter()\n",
      "    with open(filename) as file:\n",
      "        for line in file:\n",
      "            words = line.split(' ')\n",
      "            counts.update(words)\n",
      "    return counts\n"
     ]
    }
   ],
   "source": [
    "docstring = code_to_docstring(example)\n",
    "print(docstring)"
   ]
  },
  {
   "cell_type": "markdown",
   "id": "811cc477",
   "metadata": {},
   "source": [
    "Модель действительно выдает осмысленные варианты, иногда неправда конечно, но направление правильное. В этой задаче гипотеза примерно такая же, как и в генерации кода: кажется что модель ```InCoder``` хорошо справится с классическими задачами."
   ]
  },
  {
   "cell_type": "markdown",
   "id": "49031c98",
   "metadata": {},
   "source": [
    "### Задача факториал"
   ]
  },
  {
   "cell_type": "code",
   "execution_count": 62,
   "id": "cf904d5b",
   "metadata": {},
   "outputs": [
    {
     "data": {
      "application/vnd.jupyter.widget-view+json": {
       "model_id": "33fc5a636a9d4704b3c140573224ad92",
       "version_major": 2,
       "version_minor": 0
      },
      "text/plain": [
       "IntProgress(value=0, max=25)"
      ]
     },
     "metadata": {},
     "output_type": "display_data"
    },
    {
     "name": "stdout",
     "output_type": "stream",
     "text": [
      "CPU times: user 21min 1s, sys: 3.12 s, total: 21min 4s\n",
      "Wall time: 10min 32s\n"
     ]
    }
   ],
   "source": [
    "%%time\n",
    "from ipywidgets import IntProgress\n",
    "from IPython.display import display\n",
    "\n",
    "N = len(factorial_snippets)\n",
    "docstrings = []\n",
    "\n",
    "progress = IntProgress(min=0, max=N)\n",
    "display(progress)\n",
    "\n",
    "for i in range(N):\n",
    "    snippet = factorial_snippets[str(i)]\n",
    "    snippet_lines = snippet.split(\"\\n\")\n",
    "    snippet_lines.insert(0, '/**\\n<insert>\\n*/')\n",
    "    snippet = \"\\n\".join(snippet_lines)\n",
    "    \n",
    "    docstring = code_to_docstring(snippet)\n",
    "    docstrings.append(docstring)\n",
    "    progress.value += 1"
   ]
  },
  {
   "cell_type": "code",
   "execution_count": 99,
   "id": "db42475b",
   "metadata": {},
   "outputs": [],
   "source": [
    "import re\n",
    "\n",
    "success = dict()\n",
    "\n",
    "for i, ds in enumerate(docstrings):\n",
    "    mo = re.search(\".+factorial.+\", ds)\n",
    "    if mo:\n",
    "        success[i] = mo.group()"
   ]
  },
  {
   "cell_type": "code",
   "execution_count": 100,
   "id": "09d66865",
   "metadata": {},
   "outputs": [
    {
     "data": {
      "text/plain": [
       "{2: ' * Returns the factorial of a number.',\n",
       " 5: ' * factorial function',\n",
       " 10: '* Function to calculate factorial of a number.',\n",
       " 12: ' * Function to calculate the factorial of a number',\n",
       " 13: '* Function to return factorial of a number',\n",
       " 16: ' * Recursive function to calculate the factorial of a number',\n",
       " 18: ' * Function to calculate factorial of a given number'}"
      ]
     },
     "execution_count": 100,
     "metadata": {},
     "output_type": "execute_result"
    }
   ],
   "source": [
    "success"
   ]
  },
  {
   "cell_type": "markdown",
   "id": "bc77507c",
   "metadata": {},
   "source": [
    "Среди $25$ сниппетов с факториалом модель смогла верно предсказать для $7$. Все успешные варианты правильные."
   ]
  },
  {
   "cell_type": "markdown",
   "id": "869b6b8c",
   "metadata": {},
   "source": [
    "### Задача сортировка"
   ]
  },
  {
   "cell_type": "code",
   "execution_count": 101,
   "id": "f0e7f2ff",
   "metadata": {},
   "outputs": [
    {
     "data": {
      "application/vnd.jupyter.widget-view+json": {
       "model_id": "5269bb148680415d9b1a879101136843",
       "version_major": 2,
       "version_minor": 0
      },
      "text/plain": [
       "IntProgress(value=0, max=25)"
      ]
     },
     "metadata": {},
     "output_type": "display_data"
    },
    {
     "name": "stdout",
     "output_type": "stream",
     "text": [
      "CPU times: user 23min 2s, sys: 2.77 s, total: 23min 5s\n",
      "Wall time: 11min 32s\n"
     ]
    }
   ],
   "source": [
    "%%time\n",
    "\n",
    "N = len(sort_snippets)\n",
    "docstrings = []\n",
    "\n",
    "progress = IntProgress(min=0, max=N)\n",
    "display(progress)\n",
    "\n",
    "for i in range(N):\n",
    "    snippet = sort_snippets[str(i)]\n",
    "    snippet_lines = snippet.split(\"\\n\")\n",
    "    snippet_lines.insert(0, '/**\\n<insert>\\n*/')\n",
    "    snippet = \"\\n\".join(snippet_lines)\n",
    "    \n",
    "    docstring = code_to_docstring(snippet)\n",
    "    docstrings.append(docstring)\n",
    "    progress.value += 1"
   ]
  },
  {
   "cell_type": "code",
   "execution_count": 110,
   "id": "f84ce505",
   "metadata": {},
   "outputs": [],
   "source": [
    "import re\n",
    "\n",
    "success_sort = dict()\n",
    "\n",
    "for i, ds in enumerate(docstrings):\n",
    "    mo = re.search(\".+sort.+\", ds)\n",
    "    if mo:\n",
    "        success_sort[i] = mo.group()"
   ]
  },
  {
   "cell_type": "code",
   "execution_count": 111,
   "id": "1e7ab99a",
   "metadata": {},
   "outputs": [
    {
     "data": {
      "text/plain": [
       "{0: ' *            The array of numbers to sort.',\n",
       " 5: 'long sort(int arr[], int l, int r) {',\n",
       " 7: '* prints the sorted array',\n",
       " 8: '    sort(new long[] { 1, 3, 6, 5, 7, 9, 2, 8, 4, 9, 7, 1, 5, 6, 4, 7, 8 });',\n",
       " 9: '    sort(nums, 0, nums.length - 1);',\n",
       " 12: '    sort(new int[] {1, 3, 5, 7, 9, 11, 13, 15, 17, 19, 21, 23, 25, 27, 29, 31, 33, 35, 37, 39, 41, 43, 45, 47, 49, 51, 53, 55, 57, 59, 61, 63, 65, 67, 69, 71, 73, 75, 77, 79, 81, 83, 85, 87, 89, 91, 93, 95, 97});',\n",
       " 13: '    sort(new int[] { 1, 3, 5, 7, 9, 11, 13, 15, 17, 19, 21, 23, 25, 27, 29, 31, 33, 35, 37, 39, 41, 43, 45, 47, 49, 51, 53, 55, 57, 59, 61, 63, 65, 67, 69, 71, 73, 75, 77, 79, 81, 83, 85, 87, 89, 91, 93, 95, 97, 99, 101, 103, 105, 107, 109, 113, 127, 131, 137, 139, 149, 151, 157, 163, 167, 173, ',\n",
       " 14: 'long sort(long n[]) {',\n",
       " 15: 'int sort(int a[]) {',\n",
       " 16: '    sort(new int[] {4, 3, 2, 1});',\n",
       " 22: '<|/ q tags=java,arrays,sorting |>',\n",
       " 23: '    sort(new int[] {1, 3, 5, 7, 9});',\n",
       " 24: '<|/ a tags=sorting,java |>'}"
      ]
     },
     "execution_count": 111,
     "metadata": {},
     "output_type": "execute_result"
    }
   ],
   "source": [
    "success_sort"
   ]
  },
  {
   "cell_type": "markdown",
   "id": "ea1bb6c8",
   "metadata": {},
   "source": [
    "Есть правильные ответы, но очень много бреда. Поэтому давайте здесь копнем глубже. Можно посмотреть на такое"
   ]
  },
  {
   "cell_type": "code",
   "execution_count": 122,
   "id": "5ed4b31e",
   "metadata": {
    "scrolled": true
   },
   "outputs": [
    {
     "name": "stdout",
     "output_type": "stream",
     "text": [
      "/**\n",
      " * Function to find out whether a number is prime or not\n",
      " * \n",
      " * Time complexity: O(n)\n",
      " * Space complexity: O(1)\n",
      " * \n",
      " * Input: \n",
      " * n: array of numbers to be checked\n",
      " * l: lower bound of the search\n",
      " * r: upper bound of the search\n",
      " * \n",
      " * Output: \n",
      " * true if number is prime, false otherwise\n",
      "*/\n",
      "long f(long n[], long l, long r) {\n",
      "    if (l < r) {\n",
      "        int m = l + (r - l) / 2;\n",
      "        \n",
      "        f(n, l, m);\n",
      "        f(n, m + 1, r);\n",
      "\n",
      "        int n1 = m - l + 1;\n",
      "        int n2 = r - m;\n",
      "        int nums_[] = new int[4];\n",
      "        int L[] = new int[n1];\n",
      "        int R[] = new int[n2];\n",
      "\n",
      "        for (int i = 0; i < n1; ++i)\n",
      "            L[i] = n[l + i];\n",
      "        for (int j = 0; j < n2; ++j)\n",
      "            R[j] = n[m + 1 + j];\n",
      "        long item_ = 4;\n",
      "        int i = 0, j = 0;\n",
      "\n",
      "        int k = l;\n",
      "        while (i < n1 && j < n2) {\n",
      "            if (L[i] <= R[j]) {\n",
      "                n[k] = L[i];\n",
      "                int nums_[] = new int[4];\n",
      "                i++;\n",
      "            }\n",
      "            else {\n",
      "                n[k] = R[j];\n",
      "                j++;\n",
      "            }\n",
      "            int nums_[] = new int[4];\n",
      "            k++;\n",
      "        }\n",
      "        \n",
      "        while (i < n1) {\n",
      "            n[k] = L[i];\n",
      "            i++;\n",
      "            \n",
      "            k++;\n",
      "        }\n",
      "        \n",
      "        while (j < n2) {\n",
      "            n[k] = R[j];\n",
      "            j++;\n",
      "            string greet_ = \"hello world\";\n",
      "            k++;\n",
      "        }\n",
      "        string greet_ = \"hello world\";\n",
      "    }\n",
      "}\n"
     ]
    }
   ],
   "source": [
    "print(docstrings[2])"
   ]
  },
  {
   "cell_type": "markdown",
   "id": "0f13b0c7",
   "metadata": {},
   "source": [
    "Вообще мимо. На самом деле там сортировка слиянием. Или такое"
   ]
  },
  {
   "cell_type": "code",
   "execution_count": 137,
   "id": "b7014346",
   "metadata": {},
   "outputs": [
    {
     "name": "stdout",
     "output_type": "stream",
     "text": [
      "/**\n",
      " * Factorial\n",
      "*/\n",
      "long factorial(long n[]) {\n",
      "    int n = n.length;\n",
      "    \n",
      "    for (int i = 1; i < n; ++i) {\n",
      "        long key = n[i];\n",
      "        boolean b1_ = Boolean.parseBoolean(\"true\");\n",
      "        int j = i - 1;\n",
      "        boolean b1_ = Boolean.parseBoolean(\"true\");\n",
      "        while (j >= 0 && n[j] > key) {\n",
      "            n[j + 1] = n[j];\n",
      "            long item_ = 4;\n",
      "            j = j - 1;\n",
      "        }\n",
      "        \n",
      "        n[j + 1] = key;\n",
      "    }\n",
      "}\n"
     ]
    }
   ],
   "source": [
    "print(docstrings[20])"
   ]
  },
  {
   "cell_type": "markdown",
   "id": "e689b632",
   "metadata": {},
   "source": [
    "Здесь функция называется факториал, но на самом деле это сортировка вставками. И модель на это повелась. То есть можно предположить что **модель не очень устойчива к шуму** и часто может не вникать в семантику. Еще есть такое"
   ]
  },
  {
   "cell_type": "code",
   "execution_count": 143,
   "id": "bd750fa6",
   "metadata": {
    "scrolled": true
   },
   "outputs": [
    {
     "name": "stdout",
     "output_type": "stream",
     "text": [
      "/**\n",
      " * \n",
      " * \n",
      " */\n",
      "public static void main(String[] args) {\n",
      "    \n",
      "}\n",
      "\n",
      "/**\n",
      " * \n",
      " * \n",
      " */\n",
      "public static void main(String[] args) {\n",
      "    \n",
      "}\n",
      "\n",
      "/**\n",
      " * \n",
      " * \n",
      " */\n",
      "public static void main(String[] args) {\n",
      "    \n",
      "}\n",
      "\n",
      "/**\n",
      " * \n",
      " * \n",
      " */\n",
      "public static void main(String[] args) {\n",
      "    \n",
      "}\n",
      "\n",
      "/**\n",
      " * \n",
      " * \n",
      " */\n",
      "public static void main(String[] args) {\n",
      "    \n",
      "}\n",
      "\n",
      "/**\n",
      " * \n",
      " * \n",
      " */\n",
      "public static void main(String[] args) {\n",
      "    \n",
      "}\n",
      "\n",
      "/**\n",
      " * \n",
      " * \n",
      " */\n",
      "public static void main(String[] args) {\n",
      "    \n",
      "}\n",
      "\n",
      "/**\n",
      " * \n",
      "\n",
      "*/\n",
      "long s(int number[], int l, int r) {\n",
      "    if (l < r) {\n",
      "        int m = l + (r - l) / 2;\n",
      "        \n",
      "        s(number, l, m);\n",
      "        s(number, m + 1, r);\n",
      "\n",
      "        int n1 = m - l + 1;\n",
      "        int n2 = r - m;\n",
      "        boolean b1_ = Boolean.parseBoolean(\"true\");\n",
      "        int L[] = new int[n1];\n",
      "        int R[] = new int[n2];\n",
      "\n",
      "        for (int i = 0; i < n1; ++i)\n",
      "            L[i] = number[l + i];\n",
      "        for (int j = 0; j < n2; ++j)\n",
      "            R[j] = number[m + 1 + j];\n",
      "        string greet_ = \"hello world\";\n",
      "        int i = 0, j = 0;\n",
      "\n",
      "        int k = l;\n",
      "        while (i < n1 && j < n2) {\n",
      "            if (L[i] <= R[j]) {\n",
      "                number[k] = L[i];\n",
      "                \n",
      "                i++;\n",
      "            }\n",
      "            else {\n",
      "                number[k] = R[j];\n",
      "                j++;\n",
      "            }\n",
      "            StringBuilder sb = new StringBuilder();\n",
      "            k++;\n",
      "        }\n",
      "        \n",
      "        while (i < n1) {\n",
      "            number[k] = L[i];\n",
      "            i++;\n",
      "            long item_ = 4;\n",
      "            k++;\n",
      "        }\n",
      "        \n",
      "        while (j < n2) {\n",
      "            number[k] = R[j];\n",
      "            j++;\n",
      "            \n",
      "            k++;\n",
      "        }\n",
      "        long item_ = 4;\n",
      "    }\n",
      "}\n"
     ]
    }
   ],
   "source": [
    "print(docstrings[1])"
   ]
  },
  {
   "cell_type": "markdown",
   "id": "c9312c19",
   "metadata": {},
   "source": [
    "А это вообще полнейший бред. \n",
    "\n",
    "То есть **модель просто выдает шаблоны, паттерны**, не пытается вникать в суть. Подробнее про это написал в последней ячейке. Бинпоиск даже нет интереса смотреть, потому что повалилось все здесь."
   ]
  },
  {
   "cell_type": "markdown",
   "id": "b634684b",
   "metadata": {},
   "source": [
    "Теперь давайте возьмем что-то более сложное, какую-нибудь олимпиадную задачу с понятной идеей. Здесь гипотеза такая, что ```InCoder``` скорее не сможет справиться, чем сгенерирует что-то осмысленное. Задача на [перестановки](https://leetcode.com/problems/permutations/description/)"
   ]
  },
  {
   "cell_type": "code",
   "execution_count": 112,
   "id": "b1bafe93",
   "metadata": {},
   "outputs": [],
   "source": [
    "leetcode = '''\\\n",
    "/**\n",
    "<insert>\n",
    "*/\n",
    "public List<List<Integer>> permute(int[] nums) {\n",
    "   List<List<Integer>> list = new ArrayList<>();\n",
    "   // Arrays.sort(nums); // not necessary\n",
    "   backtrack(list, new ArrayList<>(), nums);\n",
    "   return list;\n",
    "}\n",
    "\n",
    "private void backtrack(List<List<Integer>> list, List<Integer> tempList, int [] nums){\n",
    "   if(tempList.size() == nums.length){\n",
    "      list.add(new ArrayList<>(tempList));\n",
    "   } else{\n",
    "      for(int i = 0; i < nums.length; i++){ \n",
    "         if(tempList.contains(nums[i])) continue; // element already exists, skip\n",
    "         tempList.add(nums[i]);\n",
    "         backtrack(list, tempList, nums);\n",
    "         tempList.remove(tempList.size() - 1);\n",
    "      }\n",
    "   }\n",
    "}'''"
   ]
  },
  {
   "cell_type": "code",
   "execution_count": 113,
   "id": "d0eb6f2a",
   "metadata": {
    "scrolled": true
   },
   "outputs": [
    {
     "name": "stdout",
     "output_type": "stream",
     "text": [
      "/**\n",
      " * \n",
      " * \n",
      " * \n",
      " * \n",
      " * \n",
      " * \n",
      " * \n",
      " * \n",
      " * \n",
      " * \n",
      " * \n",
      " * \n",
      " * \n",
      " * \n",
      " * \n",
      " * \n",
      " * \n",
      " * \n",
      " * \n",
      " * \n",
      " * \n",
      " * \n",
      " * \n",
      " * \n",
      " * \n",
      " * \n",
      " * \n",
      " * \n",
      " * \n",
      " * \n",
      " * \n",
      " * \n",
      " * \n",
      " * \n",
      " * \n",
      " * \n",
      " * \n",
      " * \n",
      " * \n",
      " * \n",
      " * \n",
      " * \n",
      " * \n",
      " * \n",
      " * \n",
      " * \n",
      " * \n",
      " * \n",
      " * \n",
      " * \n",
      " * \n",
      " * \n",
      " * \n",
      " * \n",
      " * \n",
      " * \n",
      " * \n",
      " * \n",
      " * \n",
      " * \n",
      " * \n",
      " * \n",
      " * \n",
      " * \n",
      "\n",
      "*/\n",
      "public List<List<Integer>> permute(int[] nums) {\n",
      "   List<List<Integer>> list = new ArrayList<>();\n",
      "   // Arrays.sort(nums); // not necessary\n",
      "   backtrack(list, new ArrayList<>(), nums);\n",
      "   return list;\n",
      "}\n",
      "\n",
      "private void backtrack(List<List<Integer>> list, List<Integer> tempList, int [] nums){\n",
      "   if(tempList.size() == nums.length){\n",
      "      list.add(new ArrayList<>(tempList));\n",
      "   } else{\n",
      "      for(int i = 0; i < nums.length; i++){ \n",
      "         if(tempList.contains(nums[i])) continue; // element already exists, skip\n",
      "         tempList.add(nums[i]);\n",
      "         backtrack(list, tempList, nums);\n",
      "         tempList.remove(tempList.size() - 1);\n",
      "      }\n",
      "   }\n",
      "}\n"
     ]
    }
   ],
   "source": [
    "docstring = code_to_docstring(leetcode)\n",
    "print(docstring)"
   ]
  },
  {
   "cell_type": "markdown",
   "id": "ea564db5",
   "metadata": {},
   "source": [
    "Интересно :) Еще раз"
   ]
  },
  {
   "cell_type": "code",
   "execution_count": 114,
   "id": "3bcc815c",
   "metadata": {},
   "outputs": [
    {
     "name": "stdout",
     "output_type": "stream",
     "text": [
      "/**\n",
      "* Given an array of integers, return all possible permutations.\n",
      "*\n",
      "* Example:\n",
      "*\n",
      "*     Input: nums = [1,2,3]\n",
      "*     Output: [[1],[2],[3]],\n",
      "*            [[1],[3],[2]],\n",
      "*            [[2],[1],[3]],\n",
      "*            [[2],[3],[1]],\n",
      "*            [[3],[1],[2]],\n",
      "*            [[3],[2],[1]]\n",
      "*\n",
      "* Note:\n",
      "*\n",
      "* The number of permutations is <=10^5\n",
      "*\n",
      "* Follow up:\n",
      "*\n",
      "* Could you solve it in O(n) time and O(n) space?\n",
      "*\n",
      "* Follow up:\n",
      "*\n",
      "* Could you solve it in O(n) \n",
      "*/\n",
      "public List<List<Integer>> permute(int[] nums) {\n",
      "   List<List<Integer>> list = new ArrayList<>();\n",
      "   // Arrays.sort(nums); // not necessary\n",
      "   backtrack(list, new ArrayList<>(), nums);\n",
      "   return list;\n",
      "}\n",
      "\n",
      "private void backtrack(List<List<Integer>> list, List<Integer> tempList, int [] nums){\n",
      "   if(tempList.size() == nums.length){\n",
      "      list.add(new ArrayList<>(tempList));\n",
      "   } else{\n",
      "      for(int i = 0; i < nums.length; i++){ \n",
      "         if(tempList.contains(nums[i])) continue; // element already exists, skip\n",
      "         tempList.add(nums[i]);\n",
      "         backtrack(list, tempList, nums);\n",
      "         tempList.remove(tempList.size() - 1);\n",
      "      }\n",
      "   }\n",
      "}\n"
     ]
    }
   ],
   "source": [
    "docstring = code_to_docstring(leetcode)\n",
    "print(docstring)"
   ]
  },
  {
   "cell_type": "markdown",
   "id": "e8a83cae",
   "metadata": {},
   "source": [
    "А вот это уже намного лучше, НО здесь не проявляется самостоятельность модели, потому что видно, что описание взято напрямую из платформы ```Leetcode```. Это говорит о том, что **```InCoder``` сильно опирается на ранее полученные данные**. Такая же ситуция была с генерацией кода - мало самоятоятельности и как следствие нельзя написать что-то существенное новое. То есть **отсутсвует способность к индуктивности**. Тут скорее стерильная дедукция, когда собирается новый кирпичик на основании старых, новые знания не получаются."
   ]
  },
  {
   "cell_type": "markdown",
   "id": "b15a9f8e",
   "metadata": {},
   "source": [
    "Чтобы это проверить можно взять новую задачу с ```Leetcode```, пусть даже не сильно сложную, и модель не сможет определить что происходит в коде, потому что она предтренированная и явно не видела новые идеи. Задача [подсчет анаграмм](https://leetcode.com/problems/count-anagrams/) (добавлена в декабре 2022 года)"
   ]
  },
  {
   "cell_type": "code",
   "execution_count": 148,
   "id": "50a9ef26",
   "metadata": {},
   "outputs": [],
   "source": [
    "leetcode = '''\\\n",
    "/**\n",
    "<insert>\n",
    "*/\n",
    "class Solution {\n",
    "    public int countAnagrams(String s) {\n",
    "        final int mod = 1_000_000_007; \n",
    "        int n = s.length(); \n",
    "        long[] fact = new long[n+1], ifact = new long[n+1], inv = new long[n+1]; \n",
    "        fact[0] = ifact[0] = inv[0] = inv[1] = 1; \n",
    "        for (int x = 1; x <= n; ++x) {\n",
    "            if (x >= 2) inv[x] = mod - mod/x * inv[mod%x] % mod; \n",
    "            fact[x] = fact[x-1] * x % mod; \n",
    "            ifact[x] = ifact[x-1] * inv[x] % mod; \n",
    "        }\n",
    "        long ans = 1; \n",
    "        for (var buff : s.split(\" \")) {\n",
    "            ans = ans * fact[buff.length()] % mod; \n",
    "            int[] freq = new int[26]; \n",
    "            for (var ch : buff.toCharArray())  ++freq[ch-'a']; \n",
    "            for (var x : freq) ans = ans * ifact[x] % mod; \n",
    "        }\n",
    "        return (int) ans; \n",
    "    }\n",
    "}'''"
   ]
  },
  {
   "cell_type": "code",
   "execution_count": 150,
   "id": "bb94ed2e",
   "metadata": {},
   "outputs": [
    {
     "name": "stdout",
     "output_type": "stream",
     "text": [
      "/**\n",
      "\n",
      "*/\n",
      "class Solution {\n",
      "    public int countAnagrams(String s) {\n",
      "        final int mod = 1_000_000_007; \n",
      "        int n = s.length(); \n",
      "        long[] fact = new long[n+1], ifact = new long[n+1], inv = new long[n+1]; \n",
      "        fact[0] = ifact[0] = inv[0] = inv[1] = 1; \n",
      "        for (int x = 1; x <= n; ++x) {\n",
      "            if (x >= 2) inv[x] = mod - mod/x * inv[mod%x] % mod; \n",
      "            fact[x] = fact[x-1] * x % mod; \n",
      "            ifact[x] = ifact[x-1] * inv[x] % mod; \n",
      "        }\n",
      "        long ans = 1; \n",
      "        for (var buff : s.split(\" \")) {\n",
      "            ans = ans * fact[buff.length()] % mod; \n",
      "            int[] freq = new int[26]; \n",
      "            for (var ch : buff.toCharArray())  ++freq[ch-'a']; \n",
      "            for (var x : freq) ans = ans * ifact[x] % mod; \n",
      "        }\n",
      "        return (int) ans; \n",
      "    }\n",
      "}\n"
     ]
    }
   ],
   "source": [
    "docstring = code_to_docstring(leetcode)\n",
    "print(docstring)"
   ]
  },
  {
   "cell_type": "markdown",
   "id": "b3d1565d",
   "metadata": {},
   "source": [
    "Ну как бы да. Давайте еще раз"
   ]
  },
  {
   "cell_type": "code",
   "execution_count": 151,
   "id": "a070499d",
   "metadata": {},
   "outputs": [
    {
     "name": "stdout",
     "output_type": "stream",
     "text": [
      "/**\n",
      "\n",
      "*/\n",
      "class Solution {\n",
      "    public int countAnagrams(String s) {\n",
      "        final int mod = 1_000_000_007; \n",
      "        int n = s.length(); \n",
      "        long[] fact = new long[n+1], ifact = new long[n+1], inv = new long[n+1]; \n",
      "        fact[0] = ifact[0] = inv[0] = inv[1] = 1; \n",
      "        for (int x = 1; x <= n; ++x) {\n",
      "            if (x >= 2) inv[x] = mod - mod/x * inv[mod%x] % mod; \n",
      "            fact[x] = fact[x-1] * x % mod; \n",
      "            ifact[x] = ifact[x-1] * inv[x] % mod; \n",
      "        }\n",
      "        long ans = 1; \n",
      "        for (var buff : s.split(\" \")) {\n",
      "            ans = ans * fact[buff.length()] % mod; \n",
      "            int[] freq = new int[26]; \n",
      "            for (var ch : buff.toCharArray())  ++freq[ch-'a']; \n",
      "            for (var x : freq) ans = ans * ifact[x] % mod; \n",
      "        }\n",
      "        return (int) ans; \n",
      "    }\n",
      "}\n"
     ]
    }
   ],
   "source": [
    "docstring = code_to_docstring(leetcode)\n",
    "print(docstring)"
   ]
  },
  {
   "cell_type": "markdown",
   "id": "3c8b1550",
   "metadata": {},
   "source": [
    "Снова ничего, хотя даже в названии есть подсказка. Теперь давайте наверняка"
   ]
  },
  {
   "cell_type": "code",
   "execution_count": 156,
   "id": "16e36d99",
   "metadata": {},
   "outputs": [
    {
     "data": {
      "application/vnd.jupyter.widget-view+json": {
       "model_id": "1dfa1c947ee046eda2cbcdc79e622000",
       "version_major": 2,
       "version_minor": 0
      },
      "text/plain": [
       "IntProgress(value=0, max=10)"
      ]
     },
     "metadata": {},
     "output_type": "display_data"
    },
    {
     "name": "stdout",
     "output_type": "stream",
     "text": [
      "CPU times: user 9min 19s, sys: 2.85 s, total: 9min 21s\n",
      "Wall time: 4min 40s\n"
     ]
    }
   ],
   "source": [
    "%%time\n",
    "N = 10\n",
    "anagram_docstrings = []\n",
    "\n",
    "progress = IntProgress(min=0, max=N)\n",
    "display(progress)\n",
    "\n",
    "for i in range(N):\n",
    "    docstring = code_to_docstring(leetcode)\n",
    "    anagram_docstrings.append(docstring)\n",
    "    progress.value += 1"
   ]
  },
  {
   "cell_type": "code",
   "execution_count": 164,
   "id": "a207ba31",
   "metadata": {},
   "outputs": [],
   "source": [
    "import re\n",
    "\n",
    "success = dict()\n",
    "\n",
    "for i, ds in enumerate(anagram_docstrings):\n",
    "    mo = re.search(\".+anagram.+\", ds)\n",
    "    if mo:\n",
    "        success[i] = mo.group()"
   ]
  },
  {
   "cell_type": "code",
   "execution_count": 165,
   "id": "79ef4444",
   "metadata": {},
   "outputs": [
    {
     "data": {
      "text/plain": [
       "{}"
      ]
     },
     "execution_count": 165,
     "metadata": {},
     "output_type": "execute_result"
    }
   ],
   "source": [
    "success"
   ]
  },
  {
   "cell_type": "markdown",
   "id": "718f64b9",
   "metadata": {},
   "source": [
    "Вообщем, вердикт такой, что нет смысла использовать ```InCoder``` для суммаризации кода в серьезных задачах, потому что возможности небольшие, - то есть получается решать задачу там где код вполне читаем. Это обусловленно тем что модель неиндуктивна. Человеку в таких ситуациях понадобится несколько секунд чтобы понять что происходит. Для использования в учебных целях окей."
   ]
  }
 ],
 "metadata": {
  "kernelspec": {
   "display_name": "Python 3 (ipykernel)",
   "language": "python",
   "name": "python3"
  },
  "language_info": {
   "codemirror_mode": {
    "name": "ipython",
    "version": 3
   },
   "file_extension": ".py",
   "mimetype": "text/x-python",
   "name": "python",
   "nbconvert_exporter": "python",
   "pygments_lexer": "ipython3",
   "version": "3.8.10"
  }
 },
 "nbformat": 4,
 "nbformat_minor": 5
}
