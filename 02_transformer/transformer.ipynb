{
 "cells": [
  {
   "cell_type": "markdown",
   "id": "e5d6f36d",
   "metadata": {},
   "source": [
    "# Пока не доделал, но я в процессе"
   ]
  },
  {
   "cell_type": "markdown",
   "id": "d7d5bc7b",
   "metadata": {},
   "source": [
    "### Transformer for translation task\n",
    "\n"
   ]
  },
  {
   "cell_type": "code",
   "execution_count": 48,
   "id": "9ab35350",
   "metadata": {},
   "outputs": [],
   "source": [
    "import pandas as pd"
   ]
  },
  {
   "cell_type": "markdown",
   "id": "b6bdd382",
   "metadata": {},
   "source": [
    "### Подготовка данных\n",
    "\n",
    "Будем решать задачу машинного перевода с русского языка на английский. В качестве модели по архитектуре трансформера. Данные для обучения можно загрузить [здесь](https://www.manythings.org/anki/)"
   ]
  },
  {
   "cell_type": "code",
   "execution_count": 49,
   "id": "ff43725a",
   "metadata": {},
   "outputs": [],
   "source": [
    "DATASET_PATH = \"data/rus-eng/rus.txt\""
   ]
  },
  {
   "cell_type": "code",
   "execution_count": 81,
   "id": "80457ab5",
   "metadata": {},
   "outputs": [
    {
     "data": {
      "text/html": [
       "<div>\n",
       "<style scoped>\n",
       "    .dataframe tbody tr th:only-of-type {\n",
       "        vertical-align: middle;\n",
       "    }\n",
       "\n",
       "    .dataframe tbody tr th {\n",
       "        vertical-align: top;\n",
       "    }\n",
       "\n",
       "    .dataframe thead th {\n",
       "        text-align: right;\n",
       "    }\n",
       "</style>\n",
       "<table border=\"1\" class=\"dataframe\">\n",
       "  <thead>\n",
       "    <tr style=\"text-align: right;\">\n",
       "      <th></th>\n",
       "      <th>eng</th>\n",
       "      <th>rus</th>\n",
       "      <th>description</th>\n",
       "    </tr>\n",
       "    <tr>\n",
       "      <th>sample_id</th>\n",
       "      <th></th>\n",
       "      <th></th>\n",
       "      <th></th>\n",
       "    </tr>\n",
       "  </thead>\n",
       "  <tbody>\n",
       "    <tr>\n",
       "      <th>0</th>\n",
       "      <td>Go.</td>\n",
       "      <td>Марш!</td>\n",
       "      <td>CC-BY 2.0 (France) Attribution: tatoeba.org #2...</td>\n",
       "    </tr>\n",
       "    <tr>\n",
       "      <th>1</th>\n",
       "      <td>Go.</td>\n",
       "      <td>Иди.</td>\n",
       "      <td>CC-BY 2.0 (France) Attribution: tatoeba.org #2...</td>\n",
       "    </tr>\n",
       "    <tr>\n",
       "      <th>2</th>\n",
       "      <td>Go.</td>\n",
       "      <td>Идите.</td>\n",
       "      <td>CC-BY 2.0 (France) Attribution: tatoeba.org #2...</td>\n",
       "    </tr>\n",
       "    <tr>\n",
       "      <th>3</th>\n",
       "      <td>Hi.</td>\n",
       "      <td>Здравствуйте.</td>\n",
       "      <td>CC-BY 2.0 (France) Attribution: tatoeba.org #5...</td>\n",
       "    </tr>\n",
       "    <tr>\n",
       "      <th>4</th>\n",
       "      <td>Hi.</td>\n",
       "      <td>Привет!</td>\n",
       "      <td>CC-BY 2.0 (France) Attribution: tatoeba.org #5...</td>\n",
       "    </tr>\n",
       "  </tbody>\n",
       "</table>\n",
       "</div>"
      ],
      "text/plain": [
       "           eng            rus  \\\n",
       "sample_id                       \n",
       "0          Go.          Марш!   \n",
       "1          Go.           Иди.   \n",
       "2          Go.         Идите.   \n",
       "3          Hi.  Здравствуйте.   \n",
       "4          Hi.        Привет!   \n",
       "\n",
       "                                                 description  \n",
       "sample_id                                                     \n",
       "0          CC-BY 2.0 (France) Attribution: tatoeba.org #2...  \n",
       "1          CC-BY 2.0 (France) Attribution: tatoeba.org #2...  \n",
       "2          CC-BY 2.0 (France) Attribution: tatoeba.org #2...  \n",
       "3          CC-BY 2.0 (France) Attribution: tatoeba.org #5...  \n",
       "4          CC-BY 2.0 (France) Attribution: tatoeba.org #5...  "
      ]
     },
     "execution_count": 81,
     "metadata": {},
     "output_type": "execute_result"
    }
   ],
   "source": [
    "df = pd.read_csv(DATASET_PATH, sep = \"\\t\")\n",
    "df.index.name = \"sample_id\"\n",
    "df.head()"
   ]
  },
  {
   "cell_type": "markdown",
   "id": "64de60a6",
   "metadata": {},
   "source": [
    "Для начала нужно убрать все знаки пунктуации и столбец с описанием, а затем каждое слово превратить в числовой вектор."
   ]
  },
  {
   "cell_type": "code",
   "execution_count": 82,
   "id": "d12a7de1",
   "metadata": {},
   "outputs": [],
   "source": [
    "df.drop(columns = \"description\", inplace = True)"
   ]
  },
  {
   "cell_type": "code",
   "execution_count": null,
   "id": "a5cf50e3",
   "metadata": {},
   "outputs": [],
   "source": []
  },
  {
   "cell_type": "code",
   "execution_count": null,
   "id": "69d92054",
   "metadata": {},
   "outputs": [],
   "source": []
  },
  {
   "cell_type": "code",
   "execution_count": null,
   "id": "2827ef08",
   "metadata": {},
   "outputs": [],
   "source": []
  },
  {
   "cell_type": "code",
   "execution_count": null,
   "id": "b844117b",
   "metadata": {},
   "outputs": [],
   "source": []
  },
  {
   "cell_type": "code",
   "execution_count": null,
   "id": "775c67ba",
   "metadata": {},
   "outputs": [],
   "source": []
  },
  {
   "cell_type": "code",
   "execution_count": 36,
   "id": "fc300a44",
   "metadata": {},
   "outputs": [],
   "source": [
    "import torch\n",
    "\n",
    "from typing import Tuple"
   ]
  },
  {
   "cell_type": "code",
   "execution_count": 3,
   "id": "6fd3f0ce",
   "metadata": {},
   "outputs": [],
   "source": [
    "class Attention3D(torch.nn.Module):\n",
    "    def __init__(self, n_features):\n",
    "        super(Attention3D, self).__init__()\n",
    "\n",
    "        self.query, self.key, self.value = [\n",
    "            torch.nn.Linear(n_features, n_features) \n",
    "            for _ in range(3)\n",
    "        ]\n",
    "\n",
    "        self.softmax = torch.nn.Softmax(dim = 1)\n",
    "\n",
    "    def forward(self, input):\n",
    "        context_length, batch_size, n_features = input.shape\n",
    "        output = input.clone().detach()\n",
    "        \n",
    "        for i in range(batch_size):\n",
    "            input_2d = output[:, i: i+1, :].clone().detach().reshape(context_length, n_features)\n",
    "            Q, K, V = self.query(input_2d), self.key(input_2d), self.value(input_2d)\n",
    "\n",
    "            attention_2d = self.softmax( (Q @ K.T) / n_features**0.5) @ V\n",
    "            output[:, i: i+1, :] = attention_2d.reshape(context_length, 1, n_features)\n",
    "        \n",
    "        return output"
   ]
  },
  {
   "cell_type": "code",
   "execution_count": 7,
   "id": "49287c60",
   "metadata": {},
   "outputs": [],
   "source": [
    "class Encoder(torch.nn.Module):\n",
    "    \n",
    "    def __init__(self, batch_sample: torch.Tensor) -> None:\n",
    "        super(Encoder, self).__init__()\n",
    "        \n",
    "        context_length, batch_size, n_features = batch_sample.shape\n",
    "        self.layer_norm = torch.nn.LayerNorm(normalized_shape = n_features)\n",
    "        \n",
    "        self.attention_layer = Attention3D(n_features)\n",
    "        self.feed_forward_layer = torch.nn.Sequential(\n",
    "            torch.nn.Linear(n_features, n_features * 2),\n",
    "            torch.nn.Linear(n_features * 2, n_features)\n",
    "        )\n",
    "        \n",
    "    def forward(self, input: torch.Tensor) -> torch.Tensor:\n",
    "        attention_output = self.attention_layer(input)\n",
    "        norm_attention_output = self.layer_norm(input + attention_output)\n",
    "        \n",
    "        feed_forward_output = self.feed_forward_layer(norm_attention_output)\n",
    "        encoder_output = self.layer_norm(norm_attention_output + feed_forward_output)\n",
    "        \n",
    "        return encoder_output"
   ]
  },
  {
   "cell_type": "code",
   "execution_count": 39,
   "id": "5a42c7bf",
   "metadata": {},
   "outputs": [],
   "source": [
    "class Decoder(torch.nn.Module):\n",
    "    def __init__(self, batch_sample: torch.Tensor) -> None:\n",
    "        \n",
    "        super(Decoder, self).__init__()\n",
    "        \n",
    "        context_length, batch_size, n_features = batch_sample.shape\n",
    "        self.layer_norm = torch.nn.LayerNorm(normalized_shape = n_features)\n",
    "        \n",
    "        \n",
    "    def forward(self, input: torch.Tensor) -> torch.Tensor:\n",
    "        pass"
   ]
  },
  {
   "cell_type": "code",
   "execution_count": 44,
   "id": "748572e5",
   "metadata": {},
   "outputs": [],
   "source": [
    "class Transformer(torch.nn.Module):\n",
    "    \n",
    "    def __init__(self, batch_sample: torch.Tensor, stack_size: int) -> None:\n",
    "        super(Transformer, self).__init()\n",
    "        \n",
    "        self.encoders, self.decoders = [torch.nn.Sequential() for _ in range(2)]\n",
    "        \n",
    "        for _ in range(stack_size):\n",
    "            self.encoders.append(Encoder(batch_sample))\n",
    "            self.decoders.append(Decoder(batch_sample))\n",
    "            \n",
    "    def _exctract_encoder_key_value(self, encoder: Encoder) -> Tuple[torch.Tensor, torch.Tensor]:\n",
    "        K = list(encoder.attention_layer.key.parameters())[0].data\n",
    "        V = list(encoder.attention_layer.value.parameters())[0].data\n",
    "        return K, V\n",
    "            \n",
    "    def forward(self, input: torch.Tensor) -> torch.Tensor:\n",
    "        \n",
    "        # 1. Forward input through encoders stack\n",
    "        self.encoders(input)\n",
    "        \n",
    "        # 2. Now, last encoder contains needed K,V tensors\n",
    "        \n",
    "        # 3. Get K,V tensors for decoder cross attention sublayer\n",
    "        K, V = self._exctract_encoder_key_value(self.encoders[-1])      # requires_grad ?\n",
    "        \n",
    "        self.decoders()"
   ]
  }
 ],
 "metadata": {
  "kernelspec": {
   "display_name": ".venv",
   "language": "python",
   "name": ".venv"
  },
  "language_info": {
   "codemirror_mode": {
    "name": "ipython",
    "version": 3
   },
   "file_extension": ".py",
   "mimetype": "text/x-python",
   "name": "python",
   "nbconvert_exporter": "python",
   "pygments_lexer": "ipython3",
   "version": "3.8.10"
  }
 },
 "nbformat": 4,
 "nbformat_minor": 5
}
