{
 "cells": [
  {
   "cell_type": "code",
   "execution_count": 1,
   "id": "fc300a44",
   "metadata": {},
   "outputs": [],
   "source": [
    "import torch\n",
    "from typing import Tuple"
   ]
  },
  {
   "cell_type": "code",
   "execution_count": 154,
   "id": "6fd3f0ce",
   "metadata": {},
   "outputs": [],
   "source": [
    "class Attention3D(torch.nn.Module):\n",
    "    def __init__(self, n_features: int, masked: bool = False) -> None:\n",
    "        super(Attention3D, self).__init__()\n",
    "\n",
    "        self.query, self.key, self.value = [\n",
    "            torch.nn.Linear(n_features, n_features) \n",
    "            for _ in range(3)\n",
    "        ]\n",
    "        \n",
    "        self.masked = masked\n",
    "        self.softmax = torch.nn.Softmax(dim = 1)\n",
    "\n",
    "    def forward(self, input: torch.Tensor, K_input: torch.Tensor = None, V_input: torch.Tensor = None) -> torch.Tensor:\n",
    "        context_length, batch_size, n_features = input.shape\n",
    "        \n",
    "        K_context, _, _ = K_input.shape if K_input is not None else input.shape\n",
    "        V_context, _, _ = V_input.shape if V_input is not None else input.shape\n",
    "            \n",
    "        output = input.clone().detach()\n",
    "        K_output = torch.Tensor(K_context, batch_size, n_features)\n",
    "        V_output = torch.Tensor(V_context, batch_size, n_features)\n",
    "        \n",
    "        for i in range(batch_size):\n",
    "            input_2d = output[:, i: i+1, :].clone().detach().reshape(context_length, n_features)\n",
    "            Q = self.query(input_2d)\n",
    "            \n",
    "            if K_input is None:\n",
    "                K = self.key(input_2d)\n",
    "            else:\n",
    "                K = K_input[:, i: i+1, :].clone().detach().reshape(K_context, n_features)\n",
    "                \n",
    "            if V_input is None:\n",
    "                V = self.value(input_2d)\n",
    "            else:\n",
    "                V = V_input[:, i: i+1, :].clone().detach().reshape(V_context, n_features)\n",
    "\n",
    "            I = Q @ K.T\n",
    "            if self.masked:\n",
    "                for i in range(len(I)):\n",
    "                    I[i][i+1:] = -torch.inf\n",
    "                \n",
    "            attention_2d = self.softmax( I / n_features**0.5) @ V\n",
    "            output[:, i: i+1, :] = attention_2d.reshape(context_length, 1, n_features)\n",
    "            \n",
    "            K_output[:, i: i+1, :] = K.reshape(K_context, 1, n_features)\n",
    "            V_output[:, i: i+1, :] = V.reshape(V_context, 1, n_features)\n",
    "        \n",
    "        return output, (K_output, V_output)"
   ]
  },
  {
   "cell_type": "code",
   "execution_count": 155,
   "id": "49287c60",
   "metadata": {},
   "outputs": [],
   "source": [
    "class Encoder(torch.nn.Module):\n",
    "    \n",
    "    def __init__(self, batch_sample: torch.Tensor, final_module: bool = False) -> None:\n",
    "        super(Encoder, self).__init__()\n",
    "        \n",
    "        context_length, batch_size, n_features = batch_sample.shape\n",
    "        self.layer_norm = torch.nn.LayerNorm(normalized_shape = n_features)\n",
    "        \n",
    "        self.attention_layer = Attention3D(n_features, masked = False)\n",
    "        self.feed_forward_layer = torch.nn.Sequential(\n",
    "            torch.nn.Linear(n_features, n_features * 2),\n",
    "            torch.nn.Linear(n_features * 2, n_features)\n",
    "        )\n",
    "        \n",
    "        self.final_module = final_module\n",
    "        \n",
    "    def forward(self, input: torch.Tensor) -> torch.Tensor:\n",
    "        attention_output, KV_tuple = self.attention_layer(input)\n",
    "        norm_attention_output = self.layer_norm(input + attention_output)\n",
    "        \n",
    "        feed_forward_output = self.feed_forward_layer(norm_attention_output)\n",
    "        encoder_output = self.layer_norm(norm_attention_output + feed_forward_output)\n",
    "        \n",
    "        return encoder_output if not self.final_module else KV_tuple"
   ]
  },
  {
   "cell_type": "code",
   "execution_count": 156,
   "id": "5a42c7bf",
   "metadata": {},
   "outputs": [],
   "source": [
    "class Decoder(torch.nn.Module):\n",
    "    def __init__(self, batch_sample: torch.Tensor) -> None:\n",
    "        \n",
    "        super(Decoder, self).__init__()\n",
    "        \n",
    "        context_length, batch_size, n_features = batch_sample.shape\n",
    "        self.layer_norm = torch.nn.LayerNorm(normalized_shape = n_features)\n",
    "        \n",
    "        self.attention_layer = Attention3D(n_features, masked = True)\n",
    "        self.cross_attention_layer = Attention3D(n_features, masked = False)\n",
    "        \n",
    "        self.feed_forward_layer = torch.nn.Sequential(\n",
    "            torch.nn.Linear(n_features, n_features * 2),\n",
    "            torch.nn.Linear(n_features * 2, n_features)\n",
    "        )\n",
    "        \n",
    "    def forward(self, input: torch.Tensor, K: torch.Tensor, V: torch.Tensor) -> torch.Tensor:\n",
    "        masked_attention_output, _ = self.attention_layer(input)\n",
    "        norm_attention_output = self.layer_norm(input + masked_attention_output)\n",
    "        \n",
    "        cross_attention_output, _ = self.cross_attention_layer(norm_attention_output, K, V)\n",
    "        norm_cross_attention_output = self.layer_norm(norm_attention_output + cross_attention_output)\n",
    "        \n",
    "        feed_forward_output = self.feed_forward_layer(norm_cross_attention_output)\n",
    "        decoder_output = self.layer_norm(norm_cross_attention_output + feed_forward_output)\n",
    "        \n",
    "        return decoder_output"
   ]
  },
  {
   "cell_type": "code",
   "execution_count": null,
   "id": "3535ae2e",
   "metadata": {},
   "outputs": [],
   "source": [
    "class DecoderStack(torch.nn.Sequential):\n",
    "    def __init__(self, *args, **kwargs) -> None:\n",
    "        super(DecoderStack, self).__init__(*args, **kwargs)\n",
    "        \n",
    "    def forward(self, input, *args, **kwargs):\n",
    "        for i, module in enumerate(self):\n",
    "            input = module(input, *args, **kwargs)\n",
    "        return input"
   ]
  },
  {
   "cell_type": "code",
   "execution_count": 157,
   "id": "748572e5",
   "metadata": {},
   "outputs": [],
   "source": [
    "class Transformer(torch.nn.Module):\n",
    "    \n",
    "    def __init__(self, batch_sample: torch.Tensor, stack_size: int, vocab_size: int) -> None:\n",
    "        super(Transformer, self).__init__()\n",
    "        \n",
    "        context_length, batch_size, n_features = batch_sample.shape\n",
    "        self.encoders, self.decoders = torch.nn.Sequential(), DecoderStack()\n",
    "        \n",
    "        for i in range(stack_size):\n",
    "            is_final_encoder = i == stack_size - 1\n",
    "            self.encoders.append(Encoder(batch_sample, is_final_encoder))\n",
    "            self.decoders.append(Decoder(batch_sample))\n",
    "            \n",
    "        self.linear = torch.nn.Linear(n_features, vocab_size)\n",
    "        self.softmax = torch.nn.Softmax(dim = 1)\n",
    "            \n",
    "    def forward(self, encoder_input: torch.Tensor, decoder_input: torch.Tensor) -> torch.Tensor:\n",
    "        \n",
    "        # 1. Forward input through encoders stack. Last encoder contains needed K,V tensors\n",
    "        K, V = self.encoders(encoder_input)\n",
    "        \n",
    "        decoder_output = self.decoders(decoder_input, K, V)\n",
    "        word_probabilities = self.softmax(self.linear(decoder_output))\n",
    "        \n",
    "        return word_probabilities"
   ]
  },
  {
   "cell_type": "code",
   "execution_count": 159,
   "id": "64103710",
   "metadata": {},
   "outputs": [],
   "source": [
    "bs = torch.rand(25, 1, 8)"
   ]
  },
  {
   "cell_type": "code",
   "execution_count": 160,
   "id": "c25849b3",
   "metadata": {},
   "outputs": [],
   "source": [
    "tr = Transformer(bs, stack_size = 3, vocab_size = 2048)"
   ]
  },
  {
   "cell_type": "code",
   "execution_count": 163,
   "id": "f9aecee6",
   "metadata": {},
   "outputs": [],
   "source": [
    "et = torch.rand(25, 1, 8)\n",
    "dt = torch.rand(30, 1, 8)\n",
    "\n",
    "r = tr.forward(et, dt)"
   ]
  },
  {
   "cell_type": "code",
   "execution_count": 164,
   "id": "a8dbf387",
   "metadata": {},
   "outputs": [
    {
     "data": {
      "text/plain": [
       "torch.Size([25, 1, 2048])"
      ]
     },
     "execution_count": 164,
     "metadata": {},
     "output_type": "execute_result"
    }
   ],
   "source": [
    "r.shape"
   ]
  }
 ],
 "metadata": {
  "kernelspec": {
   "display_name": ".venv",
   "language": "python",
   "name": ".venv"
  },
  "language_info": {
   "codemirror_mode": {
    "name": "ipython",
    "version": 3
   },
   "file_extension": ".py",
   "mimetype": "text/x-python",
   "name": "python",
   "nbconvert_exporter": "python",
   "pygments_lexer": "ipython3",
   "version": "3.8.10"
  }
 },
 "nbformat": 4,
 "nbformat_minor": 5
}
