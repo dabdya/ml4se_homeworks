{
 "cells": [
  {
   "cell_type": "markdown",
   "id": "ac688a50",
   "metadata": {},
   "source": [
    "### Постановка задачи\n",
    "Исследовать некоторые свойства представления кода с помощью модели ```code2vec```. А именно ответить на вопросы:\n",
    "\n",
    "* Будут ли близкими вектора, соответствующие семантически близким фрагментам кода?\n",
    "* Какую меру близости лучше всего использовать?\n",
    "\n",
    "Для проведения исследования решил взять уже обученную модель из [репозитория](https://github.com/tech-srl/code2vec), из коробки она работает только с кодом на ```Java```.\n",
    "\n",
    "Под семантикой я понимаю смысл который заложен в код, задачу которую он решает. Например, существует много принципиально разных подходов к сортировке (с идейной и синтаксической точки зрения), но семантически это одно и тоже. Для синтаксического сравнения кажется достатчно посмотреть на ```AST``` деревья. Для семантики этого недостаточно. И все же если на вход подаются два семантически одинаковых куска кода, то хочется чтобы их представления были похожи. Под представлением понимается вектор в многомерном пространстве.\n",
    "\n",
    "Что значит похожесть? Наверно можно сказать, что это пространственная близость векторов. Например, косинусное расстояние.\n",
    "\n",
    "<img src=\"images/metrics.jpg\" alt=\"alt text\" width=\"800\"/>\n",
    "\n",
    "Какую меру близости взять? На картинке видно, что метрика Миньковского, Евклидово и Манхэттенское расстояние завязаны на длины векторов, грубо говоря чем меньше расстояние по линейке тем лучше. А косинусное расстояние учитывает только угол, т.е вектора могут находиться далеко друг от друга, но при этом быть близкими. \n",
    "\n",
    "То есть косинусное расстояние учитывает масштаб векторов, например, если взять два тематически одинаковых текста разной длины, то косинусное расстояние покажет на близость, в то время как евклидово расстояние выберет иной текст соизмеримого масштаба, и он может быть совсем на другую тему. Но это не значит что евклидово расстояние нельзя использовать. Просто важно не забывать нормализовывать вектора. При нормализации косинус не изменится, а евклидово расстояние перестанет зависеть от масштабов. Таким образом обе меры имеют право на жизнь.\n",
    "\n",
    "Примеры для описанной выше ситуации с масштабами хорошо подобраны [здесь](https://cmry.github.io/notes/euclidean-v-cosine)"
   ]
  },
  {
   "cell_type": "markdown",
   "id": "3da8ed62",
   "metadata": {},
   "source": [
    "### Идея решения\n",
    "Определим набор из $K$ несложных задач. Если задача имеет несколько решений, то все они определяют ее однозначно, и эти решения должны быть семантически похожи. При этом они могут отличаться синтаксически.\n",
    "\n",
    "Давайте попробуем решить задачу классификации для представлений, которые выдаст модель ```code2vec```. Если качество решения будет высоким, то появятся основания утверждать, что вектора, соответствующие семантически близким фрагментам кода, будут близкими.\n",
    "\n",
    "Сделаем классификацию для трех классов $K = 3$, чтобы понизить вероятность случайности. Будем решать задачи:\n",
    "\n",
    "* Вычисление факториала. Рекурсивно, циклом, через стримы.\n",
    "* Сортировка массива. Пузырьковая, слиянием, вставками.\n",
    "* Бинарный поиск. Рекурсивно, циклом, библиотечной функцией."
   ]
  },
  {
   "cell_type": "markdown",
   "id": "7f8bbff8",
   "metadata": {},
   "source": [
    "Для каждой задачи есть несколько шаблонов решения на ```Java```. Они находятся в директории ```code_patterns```. Все шаблоны параметризированы так, чтобы можно было менять имя и возвращаемый тип функции, имена и типы аругуметов, а также добавить немного шума в виде бесполезных строчек кода. Вся эта логика реализована в классе ```CodeFormatter```, который случайным образом подставляет значения в параметры.\n",
    "\n",
    "Итого, для каждой задачи случайым образом сформируем одинаковое количество идейно/синтаксически разных фрагментов кода и положим в ```code_snippets```, каждый сниппет подадим на вход модели, а полученные эмбеддинги сохраним в ```vectors.json```"
   ]
  },
  {
   "cell_type": "code",
   "execution_count": 2,
   "id": "c3516b8a",
   "metadata": {},
   "outputs": [],
   "source": [
    "import code_patterns.factorial_patterns as fp\n",
    "import code_patterns.binsearch_patterns as bp\n",
    "import code_patterns.sort_patterns as sp\n",
    "from code_formatter import CodeFormatter\n",
    "\n",
    "from random import choice\n",
    "from json import dump, load"
   ]
  },
  {
   "cell_type": "markdown",
   "id": "4f3a5c3e",
   "metadata": {},
   "source": [
    "Как это будет выглядеть, например, в ```fp``` лежат принципиально разные шаблоны для вычисления факториала. Возьмем один из них"
   ]
  },
  {
   "cell_type": "code",
   "execution_count": 150,
   "id": "d66685b8",
   "metadata": {},
   "outputs": [
    {
     "name": "stdout",
     "output_type": "stream",
     "text": [
      "{return_type} {function_name}({argument_type} {argument_name}) {{\n",
      "    {useless_statement_0}\n",
      "    {return_type} {result_name} = 1;\n",
      "    {useless_statement_1}\n",
      "    for (int i = 1; i <= {argument_name}; i++) {{\n",
      "        {useless_statement_2}\n",
      "        {result_name} = {result_name} * i;\n",
      "    }}\n",
      "    {useless_statement_3}\n",
      "    return {result_name};\n",
      "}}\n"
     ]
    }
   ],
   "source": [
    "print(fp.LOOP_FACTORIAL)"
   ]
  },
  {
   "cell_type": "markdown",
   "id": "abb27385",
   "metadata": {},
   "source": [
    "Теперь форматируем его (эта операция не является идемпотентной)"
   ]
  },
  {
   "cell_type": "code",
   "execution_count": 152,
   "id": "87aa67fd",
   "metadata": {},
   "outputs": [
    {
     "name": "stdout",
     "output_type": "stream",
     "text": [
      "int f(int a) {\n",
      "    int variable_ = 45 + 96;\n",
      "    int r = 1;\n",
      "    string greet_ = \"hello world\";\n",
      "    for (int i = 1; i <= a; i++) {\n",
      "        \n",
      "        r = r * i;\n",
      "    }\n",
      "    boolean b1_ = Boolean.parseBoolean(\"true\");\n",
      "    return r;\n",
      "}\n"
     ]
    }
   ],
   "source": [
    "print(CodeFormatter().format(fp.LOOP_FACTORIAL))"
   ]
  },
  {
   "cell_type": "markdown",
   "id": "b0b8b0dd",
   "metadata": {},
   "source": [
    "Теперь получим ```SAMPLES_COUNT``` таких сниппетов для каждой задачи и запишем в ```code_snippets/snippets.json```."
   ]
  },
  {
   "cell_type": "code",
   "execution_count": 165,
   "id": "e13b2349",
   "metadata": {},
   "outputs": [],
   "source": [
    "SAMPLES_COUNT = 25\n",
    "SNIPPETS_DIR = \"code_snippets\"\n",
    "\n",
    "cf = CodeFormatter()\n",
    "\n",
    "factorial_snippets = dict()\n",
    "binsearch_snippets = dict()\n",
    "sort_snippets = dict()\n",
    "\n",
    "for i in range(SAMPLES_COUNT):\n",
    "    factorial_snippets[i] = cf.format(choice(fp.ALL))\n",
    "    binsearch_snippets[i] = cf.format(choice(bp.ALL))\n",
    "    sort_snippets[i] = cf.format(choice(sp.ALL))\n",
    "\n",
    "with open(f\"{SNIPPETS_DIR}/snippets.json\", \"w\") as file:\n",
    "    dump({\n",
    "        \"factorial_snippets\": factorial_snippets, \n",
    "        \"binsearch_snippets\": binsearch_snippets,\n",
    "        \"sort_snippets\": sort_snippets\n",
    "        }, \n",
    "        file\n",
    "    )"
   ]
  },
  {
   "cell_type": "markdown",
   "id": "390530ba",
   "metadata": {},
   "source": [
    "Далее эти сниппеты на виртуальной машине преобразуются в эмбеддинги, которые я вычислил в облаке и руками подгрузил файл ```vectors.json```. Все дело в том, что локально оперативной памяти не хватает, а на виртуалке неудобно работать с ноутбуком. В конце будет небольшая инструкция."
   ]
  },
  {
   "cell_type": "code",
   "execution_count": 3,
   "id": "479019fb",
   "metadata": {},
   "outputs": [],
   "source": [
    "import numpy as np\n",
    "import pandas as pd\n",
    "import matplotlib.pyplot as plt"
   ]
  },
  {
   "cell_type": "code",
   "execution_count": 4,
   "id": "1532d8a5",
   "metadata": {},
   "outputs": [],
   "source": [
    "with open(\"vectors.json\", \"r\") as file:\n",
    "    vectors = load(file)"
   ]
  },
  {
   "cell_type": "code",
   "execution_count": 5,
   "id": "62ce9627",
   "metadata": {},
   "outputs": [],
   "source": [
    "def get_vectors(name: str) -> np.array:\n",
    "    return np.array([\n",
    "        np.array(list(map(float, v.split())))\n",
    "        for index, v in vectors.get(name, {}).items()\n",
    "    ])\n",
    "    \n",
    "factorial_vectors = get_vectors(\"factorial_vectors\")\n",
    "binsearch_vectors = get_vectors(\"binsearch_vectors\")\n",
    "sort_vectors = get_vectors(\"sort_vectors\")"
   ]
  },
  {
   "cell_type": "code",
   "execution_count": 6,
   "id": "c0c3def6",
   "metadata": {},
   "outputs": [
    {
     "data": {
      "text/plain": [
       "((25, 384), (25, 384), (25, 384))"
      ]
     },
     "execution_count": 6,
     "metadata": {},
     "output_type": "execute_result"
    }
   ],
   "source": [
    "factorial_vectors.shape, binsearch_vectors.shape, sort_vectors.shape"
   ]
  },
  {
   "cell_type": "markdown",
   "id": "0488c538",
   "metadata": {},
   "source": [
    "Видно что размер эмбеддинга равняется $384$. Его можно поменять в настройках модели."
   ]
  },
  {
   "cell_type": "code",
   "execution_count": 7,
   "id": "9648f522",
   "metadata": {},
   "outputs": [
    {
     "data": {
      "text/html": [
       "<div>\n",
       "<style scoped>\n",
       "    .dataframe tbody tr th:only-of-type {\n",
       "        vertical-align: middle;\n",
       "    }\n",
       "\n",
       "    .dataframe tbody tr th {\n",
       "        vertical-align: top;\n",
       "    }\n",
       "\n",
       "    .dataframe thead th {\n",
       "        text-align: right;\n",
       "    }\n",
       "</style>\n",
       "<table border=\"1\" class=\"dataframe\">\n",
       "  <thead>\n",
       "    <tr style=\"text-align: right;\">\n",
       "      <th></th>\n",
       "      <th>0</th>\n",
       "      <th>1</th>\n",
       "      <th>2</th>\n",
       "      <th>3</th>\n",
       "      <th>4</th>\n",
       "      <th>5</th>\n",
       "      <th>6</th>\n",
       "      <th>7</th>\n",
       "      <th>8</th>\n",
       "      <th>9</th>\n",
       "      <th>...</th>\n",
       "      <th>375</th>\n",
       "      <th>376</th>\n",
       "      <th>377</th>\n",
       "      <th>378</th>\n",
       "      <th>379</th>\n",
       "      <th>380</th>\n",
       "      <th>381</th>\n",
       "      <th>382</th>\n",
       "      <th>383</th>\n",
       "      <th>label</th>\n",
       "    </tr>\n",
       "  </thead>\n",
       "  <tbody>\n",
       "    <tr>\n",
       "      <th>24</th>\n",
       "      <td>-0.284186</td>\n",
       "      <td>-0.316161</td>\n",
       "      <td>0.080168</td>\n",
       "      <td>-0.442066</td>\n",
       "      <td>-0.125714</td>\n",
       "      <td>-0.477422</td>\n",
       "      <td>0.226211</td>\n",
       "      <td>0.488984</td>\n",
       "      <td>-0.246327</td>\n",
       "      <td>-0.100648</td>\n",
       "      <td>...</td>\n",
       "      <td>-0.211125</td>\n",
       "      <td>0.132041</td>\n",
       "      <td>0.476380</td>\n",
       "      <td>-0.252866</td>\n",
       "      <td>-0.286592</td>\n",
       "      <td>0.607291</td>\n",
       "      <td>-0.352215</td>\n",
       "      <td>-0.118240</td>\n",
       "      <td>-0.135070</td>\n",
       "      <td>0</td>\n",
       "    </tr>\n",
       "    <tr>\n",
       "      <th>10</th>\n",
       "      <td>0.081493</td>\n",
       "      <td>-0.651112</td>\n",
       "      <td>-0.638130</td>\n",
       "      <td>0.442133</td>\n",
       "      <td>0.537002</td>\n",
       "      <td>-0.270460</td>\n",
       "      <td>0.338716</td>\n",
       "      <td>0.133654</td>\n",
       "      <td>-0.846908</td>\n",
       "      <td>-0.351121</td>\n",
       "      <td>...</td>\n",
       "      <td>-0.801800</td>\n",
       "      <td>0.083339</td>\n",
       "      <td>0.173436</td>\n",
       "      <td>-0.112406</td>\n",
       "      <td>-0.384369</td>\n",
       "      <td>0.619718</td>\n",
       "      <td>0.569659</td>\n",
       "      <td>-0.158762</td>\n",
       "      <td>-0.221877</td>\n",
       "      <td>2</td>\n",
       "    </tr>\n",
       "    <tr>\n",
       "      <th>8</th>\n",
       "      <td>-0.213305</td>\n",
       "      <td>-0.431759</td>\n",
       "      <td>0.136044</td>\n",
       "      <td>-0.405652</td>\n",
       "      <td>-0.521524</td>\n",
       "      <td>-0.707465</td>\n",
       "      <td>0.345575</td>\n",
       "      <td>0.197854</td>\n",
       "      <td>0.347300</td>\n",
       "      <td>-0.079520</td>\n",
       "      <td>...</td>\n",
       "      <td>0.460335</td>\n",
       "      <td>-0.105363</td>\n",
       "      <td>0.576506</td>\n",
       "      <td>-0.496164</td>\n",
       "      <td>-0.002336</td>\n",
       "      <td>0.366323</td>\n",
       "      <td>0.368262</td>\n",
       "      <td>0.433860</td>\n",
       "      <td>-0.653981</td>\n",
       "      <td>2</td>\n",
       "    </tr>\n",
       "    <tr>\n",
       "      <th>4</th>\n",
       "      <td>0.679117</td>\n",
       "      <td>-0.741972</td>\n",
       "      <td>-0.073988</td>\n",
       "      <td>-0.328330</td>\n",
       "      <td>0.638518</td>\n",
       "      <td>-0.460225</td>\n",
       "      <td>-0.346784</td>\n",
       "      <td>0.006724</td>\n",
       "      <td>0.546102</td>\n",
       "      <td>0.021278</td>\n",
       "      <td>...</td>\n",
       "      <td>-0.691283</td>\n",
       "      <td>0.415386</td>\n",
       "      <td>-0.147589</td>\n",
       "      <td>0.122115</td>\n",
       "      <td>0.207878</td>\n",
       "      <td>-0.001447</td>\n",
       "      <td>0.612698</td>\n",
       "      <td>-0.749560</td>\n",
       "      <td>-0.841889</td>\n",
       "      <td>1</td>\n",
       "    </tr>\n",
       "    <tr>\n",
       "      <th>14</th>\n",
       "      <td>0.805895</td>\n",
       "      <td>0.747808</td>\n",
       "      <td>-0.771925</td>\n",
       "      <td>0.572001</td>\n",
       "      <td>-0.808863</td>\n",
       "      <td>0.666763</td>\n",
       "      <td>0.688268</td>\n",
       "      <td>0.860574</td>\n",
       "      <td>0.644411</td>\n",
       "      <td>0.714973</td>\n",
       "      <td>...</td>\n",
       "      <td>-0.758987</td>\n",
       "      <td>-0.739233</td>\n",
       "      <td>0.714818</td>\n",
       "      <td>-0.203594</td>\n",
       "      <td>0.765296</td>\n",
       "      <td>0.739038</td>\n",
       "      <td>-0.793448</td>\n",
       "      <td>0.519704</td>\n",
       "      <td>0.676928</td>\n",
       "      <td>2</td>\n",
       "    </tr>\n",
       "  </tbody>\n",
       "</table>\n",
       "<p>5 rows × 385 columns</p>\n",
       "</div>"
      ],
      "text/plain": [
       "           0         1         2         3         4         5         6  \\\n",
       "24 -0.284186 -0.316161  0.080168 -0.442066 -0.125714 -0.477422  0.226211   \n",
       "10  0.081493 -0.651112 -0.638130  0.442133  0.537002 -0.270460  0.338716   \n",
       "8  -0.213305 -0.431759  0.136044 -0.405652 -0.521524 -0.707465  0.345575   \n",
       "4   0.679117 -0.741972 -0.073988 -0.328330  0.638518 -0.460225 -0.346784   \n",
       "14  0.805895  0.747808 -0.771925  0.572001 -0.808863  0.666763  0.688268   \n",
       "\n",
       "           7         8         9  ...       375       376       377       378  \\\n",
       "24  0.488984 -0.246327 -0.100648  ... -0.211125  0.132041  0.476380 -0.252866   \n",
       "10  0.133654 -0.846908 -0.351121  ... -0.801800  0.083339  0.173436 -0.112406   \n",
       "8   0.197854  0.347300 -0.079520  ...  0.460335 -0.105363  0.576506 -0.496164   \n",
       "4   0.006724  0.546102  0.021278  ... -0.691283  0.415386 -0.147589  0.122115   \n",
       "14  0.860574  0.644411  0.714973  ... -0.758987 -0.739233  0.714818 -0.203594   \n",
       "\n",
       "         379       380       381       382       383  label  \n",
       "24 -0.286592  0.607291 -0.352215 -0.118240 -0.135070      0  \n",
       "10 -0.384369  0.619718  0.569659 -0.158762 -0.221877      2  \n",
       "8  -0.002336  0.366323  0.368262  0.433860 -0.653981      2  \n",
       "4   0.207878 -0.001447  0.612698 -0.749560 -0.841889      1  \n",
       "14  0.765296  0.739038 -0.793448  0.519704  0.676928      2  \n",
       "\n",
       "[5 rows x 385 columns]"
      ]
     },
     "execution_count": 7,
     "metadata": {},
     "output_type": "execute_result"
    }
   ],
   "source": [
    "fdf = pd.DataFrame(data = factorial_vectors)\n",
    "fdf[\"label\"] = 0\n",
    "\n",
    "bdf = pd.DataFrame(data = binsearch_vectors)\n",
    "bdf[\"label\"] = 1\n",
    "\n",
    "sdf = pd.DataFrame(data = sort_vectors)\n",
    "sdf[\"label\"] = 2\n",
    "\n",
    "df = pd.concat([fdf, bdf, sdf]).sample(frac = 1)\n",
    "df.head()"
   ]
  },
  {
   "cell_type": "code",
   "execution_count": 8,
   "id": "b34605f4",
   "metadata": {},
   "outputs": [],
   "source": [
    "from sklearn.neighbors import KNeighborsClassifier"
   ]
  },
  {
   "cell_type": "code",
   "execution_count": 206,
   "id": "7c12ba56",
   "metadata": {},
   "outputs": [],
   "source": [
    "clf = KNeighborsClassifier(\n",
    "    n_neighbors = 5,\n",
    "    metric = \"cosine\"\n",
    ")"
   ]
  },
  {
   "cell_type": "code",
   "execution_count": 202,
   "id": "8960bb66",
   "metadata": {},
   "outputs": [],
   "source": [
    "X = df.drop([\"label\"], axis = 1).values\n",
    "y = df[\"label\"].values"
   ]
  },
  {
   "cell_type": "code",
   "execution_count": 208,
   "id": "f36284e7",
   "metadata": {},
   "outputs": [
    {
     "data": {
      "text/plain": [
       "((75, 384), (75,))"
      ]
     },
     "execution_count": 208,
     "metadata": {},
     "output_type": "execute_result"
    }
   ],
   "source": [
    "X.shape, y.shape"
   ]
  },
  {
   "cell_type": "code",
   "execution_count": 209,
   "id": "c2b8c81e",
   "metadata": {},
   "outputs": [
    {
     "data": {
      "text/plain": [
       "0.9733333333333334"
      ]
     },
     "execution_count": 209,
     "metadata": {},
     "output_type": "execute_result"
    }
   ],
   "source": [
    "from sklearn.metrics import accuracy_score, classification_report\n",
    "\n",
    "clf = clf.fit(X, y)\n",
    "y_pred = clf.predict(X)\n",
    "\n",
    "accuracy_score(y, y_pred)"
   ]
  },
  {
   "cell_type": "code",
   "execution_count": 210,
   "id": "e702c0ad",
   "metadata": {},
   "outputs": [
    {
     "name": "stdout",
     "output_type": "stream",
     "text": [
      "              precision    recall  f1-score   support\n",
      "\n",
      "           0       0.96      0.96      0.96        25\n",
      "           1       1.00      1.00      1.00        25\n",
      "           2       0.96      0.96      0.96        25\n",
      "\n",
      "    accuracy                           0.97        75\n",
      "   macro avg       0.97      0.97      0.97        75\n",
      "weighted avg       0.97      0.97      0.97        75\n",
      "\n"
     ]
    }
   ],
   "source": [
    "print(classification_report(y, y_pred))"
   ]
  },
  {
   "cell_type": "markdown",
   "id": "87a245f7",
   "metadata": {},
   "source": [
    "Поскольку нашлась гиперплоскость, которая уверенно разделяет эмбеддинги трех классов за счет косинусного расстояния, **можно утверждать что модель ```code2vec``` действительно может отражать семантические сходства**."
   ]
  },
  {
   "cell_type": "code",
   "execution_count": 215,
   "id": "2690dc2c",
   "metadata": {},
   "outputs": [
    {
     "data": {
      "image/png": "[encoded data removed]",
      "text/plain": [
       "<Figure size 576x288 with 1 Axes>"
      ]
     },
     "metadata": {
      "needs_background": "light"
     },
     "output_type": "display_data"
    }
   ],
   "source": [
    "from sklearn.decomposition import PCA\n",
    "\n",
    "pca = PCA(n_components=2)\n",
    "df = pd.DataFrame(pca.fit_transform(X), columns=['PC1', 'PC2'])\n",
    "df['y'] = y\n",
    "\n",
    "fig, ax = plt.subplots(figsize = (8, 4))\n",
    "ax.scatter(df.PC1, df.PC2, c = df.y)\n",
    "\n",
    "plt.show()"
   ]
  },
  {
   "cell_type": "markdown",
   "id": "0f8bf4aa",
   "metadata": {},
   "source": [
    "Поскольку нормализации не было, евклидово расстояние здесь при большем количестве экземпляров либо при большем парметре ```n_neighbors``` дало бы результат хуже по сравнению с косинусной мерой. Ну действительно:"
   ]
  },
  {
   "cell_type": "code",
   "execution_count": 217,
   "id": "c4eacc0a",
   "metadata": {},
   "outputs": [
    {
     "data": {
      "text/plain": [
       "0.9066666666666666"
      ]
     },
     "execution_count": 217,
     "metadata": {},
     "output_type": "execute_result"
    }
   ],
   "source": [
    "clf = KNeighborsClassifier(\n",
    "    n_neighbors = 10,\n",
    "#     metric = \"cosine\"\n",
    ")\n",
    "\n",
    "clf = clf.fit(X, y)\n",
    "y_pred = clf.predict(X)\n",
    "\n",
    "accuracy_score(y, y_pred)"
   ]
  },
  {
   "cell_type": "markdown",
   "id": "8c9e019e",
   "metadata": {},
   "source": [
    "Поэтому если использовать евклидово расстояние, то важно не забыть нормализовать"
   ]
  },
  {
   "cell_type": "code",
   "execution_count": 224,
   "id": "9532aafc",
   "metadata": {},
   "outputs": [
    {
     "data": {
      "text/plain": [
       "0.96"
      ]
     },
     "execution_count": 224,
     "metadata": {},
     "output_type": "execute_result"
    }
   ],
   "source": [
    "from sklearn.preprocessing import normalize\n",
    "\n",
    "X_norm = normalize(X)\n",
    "clf = clf.fit(X_norm, y)\n",
    "y_pred = clf.predict(X)\n",
    "\n",
    "accuracy_score(y, y_pred)"
   ]
  },
  {
   "cell_type": "code",
   "execution_count": 225,
   "id": "8a539b83",
   "metadata": {},
   "outputs": [
    {
     "data": {
      "image/png": "[encoded data removed]",
      "text/plain": [
       "<Figure size 576x288 with 1 Axes>"
      ]
     },
     "metadata": {
      "needs_background": "light"
     },
     "output_type": "display_data"
    }
   ],
   "source": [
    "df_norm = pd.DataFrame(pca.fit_transform(X_norm), columns=['PC1', 'PC2'])\n",
    "df_norm['y'] = y\n",
    "\n",
    "fig, ax = plt.subplots(figsize = (8, 4))\n",
    "ax.scatter(df_norm.PC1, df_norm.PC2, c = df_norm.y)\n",
    "\n",
    "plt.show()"
   ]
  },
  {
   "cell_type": "markdown",
   "id": "852aae5b",
   "metadata": {},
   "source": [
    "### Небольшая инструкция о том как получать эмбеддинги с помощью ```code2vec```."
   ]
  },
  {
   "cell_type": "code",
   "execution_count": 1,
   "id": "a5d65d7e",
   "metadata": {},
   "outputs": [
    {
     "name": "stdout",
     "output_type": "stream",
     "text": [
      "Cloning into 'code2vec'...\n",
      "remote: Enumerating objects: 703, done.\u001b[K\n",
      "remote: Counting objects: 100% (5/5), done.\u001b[K\n",
      "remote: Compressing objects: 100% (5/5), done.\u001b[K\n",
      "remote: Total 703 (delta 0), reused 0 (delta 0), pack-reused 698\u001b[K\n",
      "Receiving objects: 100% (703/703), 5.14 MiB | 4.53 MiB/s, done.\n",
      "Resolving deltas: 100% (412/412), done.\n"
     ]
    }
   ],
   "source": [
    "! git clone https://github.com/tech-srl/code2vec"
   ]
  },
  {
   "cell_type": "markdown",
   "id": "4678c9ff",
   "metadata": {},
   "source": [
    "Шаг с загрузкой/подготовкой датасета пропускаем. Вместо этого загрузим и распакуем уже обученную модель"
   ]
  },
  {
   "cell_type": "code",
   "execution_count": 4,
   "id": "230579bb",
   "metadata": {},
   "outputs": [
    {
     "name": "stdout",
     "output_type": "stream",
     "text": [
      "--2022-11-16 17:07:40--  https://s3.amazonaws.com/code2vec/model/java14m_model.tar.gz\n",
      "Resolving s3.amazonaws.com (s3.amazonaws.com)... 52.217.232.200\n",
      "Connecting to s3.amazonaws.com (s3.amazonaws.com)|52.217.232.200|:443... connected.\n",
      "HTTP request sent, awaiting response... 200 OK\n",
      "Length: 1440921240 (1,3G) [application/x-tar]\n",
      "Saving to: ‘java14m_model.tar.gz’\n",
      "\n",
      "java14m_model.tar.g 100%[===================>]   1,34G  3,83MB/s    in 11m 25s \n",
      "\n",
      "2022-11-16 17:19:06 (2,01 MB/s) - ‘java14m_model.tar.gz’ saved [1440921240/1440921240]\n",
      "\n",
      "models/java14_model/saved_model_iter8.release.data-00000-of-00001\n",
      "models/java14_model/saved_model_iter8.release.index\n",
      "models/java14_model/saved_model_iter8.release.meta\n",
      "models/java14_model/dictionaries.bin\n"
     ]
    }
   ],
   "source": [
    "! wget https://s3.amazonaws.com/code2vec/model/java14m_model.tar.gz; tar -xvzf java14m_model.tar.gz"
   ]
  },
  {
   "cell_type": "markdown",
   "id": "4471c1ce",
   "metadata": {},
   "source": [
    "На вход модель принимает данные из файла ```Input.java```"
   ]
  },
  {
   "cell_type": "code",
   "execution_count": 13,
   "id": "1419b920",
   "metadata": {},
   "outputs": [
    {
     "name": "stdout",
     "output_type": "stream",
     "text": [
      "int f(int n) {\r",
      "\r\n",
      "    if (n == 0) {\r",
      "\r\n",
      "        return 1; \r",
      "\r\n",
      "    } else {\r",
      "\r\n",
      "        return n * f(n-1);\r",
      "\r\n",
      "    }\r",
      "\r\n",
      "}"
     ]
    }
   ],
   "source": [
    "! cat code2vec/Input.java"
   ]
  },
  {
   "cell_type": "markdown",
   "id": "4cc2293b",
   "metadata": {},
   "source": [
    "Ниже видно что у меня нехватка памяти, поэтому этот шаг я сделал в облаке. И еще, пришлось немного модифицировать файл проекта ```interactive_predict.py``` с предсказаниями, чтобы автоматизировать большой объем работы, по дефолту можно получать по одному вектору за раз. Новый файл я положил в ```code2vec```, и если вдруг захочется воспроизвести получение эмбеддингов, то все что нужно сделать это подключиться в облако и проделать шаги выше, предварительно заменив файл. И еще если в на виртуалке не стоит компилятор ```Java```, то [вот](https://www.digitalocean.com/community/tutorials/how-to-install-java-with-apt-on-ubuntu-20-04)"
   ]
  },
  {
   "cell_type": "code",
   "execution_count": 14,
   "id": "2cfd5003",
   "metadata": {
    "scrolled": true
   },
   "outputs": [
    {
     "name": "stdout",
     "output_type": "stream",
     "text": [
      "2022-11-16 17:26:19.573964: I tensorflow/core/platform/cpu_feature_guard.cc:151] This TensorFlow binary is optimized with oneAPI Deep Neural Network Library (oneDNN) to use the following CPU instructions in performance-critical operations:  SSE3 SSE4.1 SSE4.2\n",
      "To enable them in other operations, rebuild TensorFlow with the appropriate compiler flags.\n",
      "2022-11-16 17:26:19,575 INFO     \n",
      "2022-11-16 17:26:19,575 INFO     \n",
      "2022-11-16 17:26:19,575 INFO     ---------------------------------------------------------------------\n",
      "2022-11-16 17:26:19,575 INFO     ---------------------------------------------------------------------\n",
      "2022-11-16 17:26:19,575 INFO     ---------------------- Creating code2vec model ----------------------\n",
      "2022-11-16 17:26:19,575 INFO     ---------------------------------------------------------------------\n",
      "2022-11-16 17:26:19,575 INFO     ---------------------------------------------------------------------\n",
      "2022-11-16 17:26:19,575 INFO     Checking number of examples ...\n",
      "2022-11-16 17:26:19,575 INFO     ---------------------------------------------------------------------\n",
      "2022-11-16 17:26:19,575 INFO     ----------------- Configuration - Hyper Parameters ------------------\n",
      "2022-11-16 17:26:19,576 INFO     CODE_VECTOR_SIZE                          384\n",
      "2022-11-16 17:26:19,576 INFO     CSV_BUFFER_SIZE                           104857600\n",
      "2022-11-16 17:26:19,576 INFO     DEFAULT_EMBEDDINGS_SIZE                   128\n",
      "2022-11-16 17:26:19,576 INFO     DL_FRAMEWORK                              tensorflow\n",
      "2022-11-16 17:26:19,576 INFO     DROPOUT_KEEP_RATE                         0.75\n",
      "2022-11-16 17:26:19,576 INFO     EXPORT_CODE_VECTORS                       False\n",
      "2022-11-16 17:26:19,576 INFO     LOGS_PATH                                 None\n",
      "2022-11-16 17:26:19,576 INFO     MAX_CONTEXTS                              200\n",
      "2022-11-16 17:26:19,576 INFO     MAX_PATH_VOCAB_SIZE                       911417\n",
      "2022-11-16 17:26:19,576 INFO     MAX_TARGET_VOCAB_SIZE                     261245\n",
      "2022-11-16 17:26:19,576 INFO     MAX_TOKEN_VOCAB_SIZE                      1301136\n",
      "2022-11-16 17:26:19,577 INFO     MAX_TO_KEEP                               10\n",
      "2022-11-16 17:26:19,577 INFO     MODEL_LOAD_PATH                           code2vec/models/java14_model/saved_model_iter8.release\n",
      "2022-11-16 17:26:19,577 INFO     MODEL_SAVE_PATH                           None\n",
      "2022-11-16 17:26:19,577 INFO     NUM_BATCHES_TO_LOG_PROGRESS               100\n",
      "2022-11-16 17:26:19,577 INFO     NUM_TEST_EXAMPLES                         0\n",
      "2022-11-16 17:26:19,577 INFO     NUM_TRAIN_BATCHES_TO_EVALUATE             1800\n",
      "2022-11-16 17:26:19,577 INFO     NUM_TRAIN_EPOCHS                          20\n",
      "2022-11-16 17:26:19,577 INFO     NUM_TRAIN_EXAMPLES                        0\n",
      "2022-11-16 17:26:19,577 INFO     PATH_EMBEDDINGS_SIZE                      128\n",
      "2022-11-16 17:26:19,577 INFO     PREDICT                                   True\n",
      "2022-11-16 17:26:19,577 INFO     READER_NUM_PARALLEL_BATCHES               6\n",
      "2022-11-16 17:26:19,577 INFO     RELEASE                                   False\n",
      "2022-11-16 17:26:19,578 INFO     SAVE_EVERY_EPOCHS                         1\n",
      "2022-11-16 17:26:19,578 INFO     SAVE_T2V                                  None\n",
      "2022-11-16 17:26:19,578 INFO     SAVE_W2V                                  None\n",
      "2022-11-16 17:26:19,578 INFO     SEPARATE_OOV_AND_PAD                      False\n",
      "2022-11-16 17:26:19,578 INFO     SHUFFLE_BUFFER_SIZE                       10000\n",
      "2022-11-16 17:26:19,578 INFO     TARGET_EMBEDDINGS_SIZE                    384\n",
      "2022-11-16 17:26:19,578 INFO     TEST_BATCH_SIZE                           1024\n",
      "2022-11-16 17:26:19,578 INFO     TEST_DATA_PATH                            \n",
      "2022-11-16 17:26:19,578 INFO     TOKEN_EMBEDDINGS_SIZE                     128\n",
      "2022-11-16 17:26:19,578 INFO     TOP_K_WORDS_CONSIDERED_DURING_PREDICTION  10\n",
      "2022-11-16 17:26:19,579 INFO     TRAIN_BATCH_SIZE                          1024\n",
      "2022-11-16 17:26:19,579 INFO     TRAIN_DATA_PATH_PREFIX                    None\n",
      "2022-11-16 17:26:19,579 INFO     USE_TENSORBOARD                           False\n",
      "2022-11-16 17:26:19,579 INFO     VERBOSE_MODE                              1\n",
      "2022-11-16 17:26:19,579 INFO     _Config__logger                           <Logger code2vec (INFO)>\n",
      "2022-11-16 17:26:19,579 INFO     context_vector_size                       384\n",
      "2022-11-16 17:26:19,579 INFO     entire_model_load_path                    code2vec/models/java14_model/saved_model_iter8.release__entire-model\n",
      "2022-11-16 17:26:19,579 INFO     entire_model_save_path                    None\n",
      "2022-11-16 17:26:19,579 INFO     is_loading                                True\n",
      "2022-11-16 17:26:19,580 INFO     is_saving                                 False\n",
      "2022-11-16 17:26:19,580 INFO     is_testing                                False\n",
      "2022-11-16 17:26:19,580 INFO     is_training                               False\n",
      "2022-11-16 17:26:19,580 INFO     model_load_dir                            code2vec/models/java14_model\n",
      "2022-11-16 17:26:19,580 INFO     model_weights_load_path                   code2vec/models/java14_model/saved_model_iter8.release__only-weights\n",
      "2022-11-16 17:26:19,580 INFO     model_weights_save_path                   None\n",
      "2022-11-16 17:26:19,580 INFO     test_steps                                0\n",
      "2022-11-16 17:26:19,580 INFO     train_data_path                           None\n",
      "2022-11-16 17:26:19,580 INFO     train_steps_per_epoch                     0\n",
      "2022-11-16 17:26:19,580 INFO     word_freq_dict_path                       None\n",
      "2022-11-16 17:26:19,581 INFO     ---------------------------------------------------------------------\n",
      "2022-11-16 17:26:19,581 INFO     Loading model vocabularies from: `code2vec/models/java14_model/dictionaries.bin` ... \n",
      "2022-11-16 17:26:23,899 INFO     Done loading model vocabularies.\n",
      "2022-11-16 17:26:24,801 INFO     Done creating code2vec model\n",
      "2022-11-16 17:26:39.861836: W tensorflow/core/framework/cpu_allocator_impl.cc:82] Allocation of 31220472 exceeds 10% of free system memory.\n",
      "2022-11-16 17:26:40.011091: W tensorflow/core/framework/cpu_allocator_impl.cc:82] Allocation of 21833064 exceeds 10% of free system memory.\n",
      "2022-11-16 17:26:44.356850: W tensorflow/core/framework/cpu_allocator_impl.cc:82] Allocation of 31220472 exceeds 10% of free system memory.\n",
      "2022-11-16 17:26:44.580691: W tensorflow/core/framework/cpu_allocator_impl.cc:82] Allocation of 21833064 exceeds 10% of free system memory.\n"
     ]
    }
   ],
   "source": [
    "! python3 code2vec/code2vec.py --load code2vec/models/java14_model/saved_model_iter8.release --predict --export_code_vectors"
   ]
  }
 ],
 "metadata": {
  "kernelspec": {
   "display_name": "Python 3 (ipykernel)",
   "language": "python",
   "name": "python3"
  },
  "language_info": {
   "codemirror_mode": {
    "name": "ipython",
    "version": 3
   },
   "file_extension": ".py",
   "mimetype": "text/x-python",
   "name": "python",
   "nbconvert_exporter": "python",
   "pygments_lexer": "ipython3",
   "version": "3.8.10"
  }
 },
 "nbformat": 4,
 "nbformat_minor": 5
}
